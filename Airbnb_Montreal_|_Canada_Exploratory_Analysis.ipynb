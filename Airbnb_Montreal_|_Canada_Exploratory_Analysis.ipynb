{
  "nbformat": 4,
  "nbformat_minor": 0,
  "metadata": {
    "colab": {
      "name": "Airbnb Montreal  | Canada - Exploratory Analysis.ipynb",
      "provenance": [],
      "collapsed_sections": [],
      "toc_visible": true,
      "include_colab_link": true
    },
    "kernelspec": {
      "name": "python3",
      "display_name": "Python 3"
    }
  },
  "cells": [
    {
      "cell_type": "markdown",
      "metadata": {
        "id": "view-in-github",
        "colab_type": "text"
      },
      "source": [
        "<a href=\"https://colab.research.google.com/github/ellenrpaes/Data_Science_Projects/blob/master/Airbnb_Montreal_%7C_Canada_Exploratory_Analysis.ipynb\" target=\"_parent\"><img src=\"https://colab.research.google.com/assets/colab-badge.svg\" alt=\"Open In Colab\"/></a>"
      ]
    },
    {
      "cell_type": "markdown",
      "metadata": {
        "id": "kLI0gJtzDGuQ"
      },
      "source": [
        "#### **Airbnb Montreal  | Canada - Exploratory Analysis**\n",
        "*by Ellen Paes\n",
        "\n",
        "---\n",
        "\n",
        "The [Airbnb](https://www.airbnb.com.br/) connects travelers who want to expand their accommodation options in addition to a traditional hotel room with people who are willing to give up space in their residence partially or totally. The platform is considered the **largest hotel company** today without having a hotel built!\n",
        "\n",
        "The Company was created in 2008 by two designers who saw in an extra space the opportunity to host three travelers looking for a place to stay. Over 12 years, Airbnb has hosted over 300 million people around the world!\n",
        "\n",
        "One of Airbnb's initiatives is to provide website data for some of the world's major cities. Through the portal  [Inside Airbnb](http://insideairbnb.com/get-the-data.html), it is possible to download a large amount of data to develop Data Science projects and solutions.\n",
        "\n",
        "<center><img alt=\"Analisando Airbnb\" width=\"10%\" src=\"https://www.area360.com.au/wp-content/uploads/2017/09/airbnb-logo.jpg\"></center>\n",
        "\n",
        "In this notebook, we will explore in an exploratory way the data related to the city Montreal, Canada, and see what insights can be extracted from raw data. Did you know that Montreal is the largest city in the Canadian province of Quebec, Canada's second-most populous? :)"
      ]
    },
    {
      "cell_type": "markdown",
      "metadata": {
        "id": "0zxQHhIUDF_2"
      },
      "source": [
        "## Collecting Data"
      ]
    },
    {
      "cell_type": "markdown",
      "metadata": {
        "id": "EU6b7F8kvLDP"
      },
      "source": [
        "We are using data from the website [Inside Airbnb](http://insideairbnb.com/get-the-data.html).\n",
        "\n",
        "For this initial exploratory analysis, we are using the file named **listings.csv**, a summary information and metrics for listings in Montreal (good for visualizations)."
      ]
    },
    {
      "cell_type": "code",
      "metadata": {
        "id": "Vhp2wMPgJ6zX",
        "outputId": "5ce9281b-5e5f-4e8f-bb08-942712ace338",
        "colab": {
          "base_uri": "https://localhost:8080/",
          "height": 71
        }
      },
      "source": [
        "# importar os pacotes necessarios\n",
        "import pandas as pd\n",
        "import matplotlib.pyplot as plt\n",
        "import seaborn as sns\n",
        "%matplotlib inline\n"
      ],
      "execution_count": null,
      "outputs": [
        {
          "output_type": "stream",
          "text": [
            "/usr/local/lib/python3.6/dist-packages/statsmodels/tools/_testing.py:19: FutureWarning: pandas.util.testing is deprecated. Use the functions in the public API at pandas.testing instead.\n",
            "  import pandas.util.testing as tm\n"
          ],
          "name": "stderr"
        }
      ]
    },
    {
      "cell_type": "code",
      "metadata": {
        "id": "tUmoAT8DLQ5T"
      },
      "source": [
        "# Importing file listings.csv as DataFrame\n",
        "df = pd.read_csv(\"http://data.insideairbnb.com/canada/qc/montreal/2020-05-17/visualisations/listings.csv\")"
      ],
      "execution_count": null,
      "outputs": []
    },
    {
      "cell_type": "markdown",
      "metadata": {
        "id": "qb5By2nIMS6m"
      },
      "source": [
        "## Data analysis\n",
        "This step aims to create an initial situational awareness and allow an understanding of how the data is structured.\n"
      ]
    },
    {
      "cell_type": "markdown",
      "metadata": {
        "id": "RYgvuebKNg8-"
      },
      "source": [
        "**Dictionary of variables**\n",
        "\n",
        "* id - id number generated to identify the property\n",
        "* name - the name of the advertised property\n",
        "* host_id - property owner (host) id number\n",
        "* host_name - Host name\n",
        "* neighbourhood _group - this column does not contain any valid values\n",
        "* neighbourhood  - neighbourhood  name\n",
        "* latitude - latitude coordinate of the property\n",
        "* longitude - coordinate of the property's longitude\n",
        "* room_type - informs the type of room that is offered\n",
        "* price - price to rent the property\n",
        "* minimum_nights – a minimum number of nights to book\n",
        "* number_of_reviews - number of reviews the property has\n",
        "* last_review - date of the last review\n",
        "* reviews_per_month - number of reviews per month\n",
        "* calculated_host_listings_count - number of properties from the same host\n",
        "* availability_365 - number of available days within 365 days\n",
        "\n",
        "\n",
        "Before starting any analysis, let's check the look of our dataset, analyzing the first 5 entries to get a sense of how the data is.\n",
        " "
      ]
    },
    {
      "cell_type": "code",
      "metadata": {
        "id": "2iS_dae7YQtO",
        "outputId": "84014134-c433-4cfb-b10a-7dca14957c25",
        "colab": {
          "base_uri": "https://localhost:8080/",
          "height": 343
        }
      },
      "source": [
        "# Show the first five entries\n",
        "df.head()"
      ],
      "execution_count": null,
      "outputs": [
        {
          "output_type": "execute_result",
          "data": {
            "text/html": [
              "<div>\n",
              "<style scoped>\n",
              "    .dataframe tbody tr th:only-of-type {\n",
              "        vertical-align: middle;\n",
              "    }\n",
              "\n",
              "    .dataframe tbody tr th {\n",
              "        vertical-align: top;\n",
              "    }\n",
              "\n",
              "    .dataframe thead th {\n",
              "        text-align: right;\n",
              "    }\n",
              "</style>\n",
              "<table border=\"1\" class=\"dataframe\">\n",
              "  <thead>\n",
              "    <tr style=\"text-align: right;\">\n",
              "      <th></th>\n",
              "      <th>id</th>\n",
              "      <th>name</th>\n",
              "      <th>host_id</th>\n",
              "      <th>host_name</th>\n",
              "      <th>neighbourhood_group</th>\n",
              "      <th>neighbourhood</th>\n",
              "      <th>latitude</th>\n",
              "      <th>longitude</th>\n",
              "      <th>room_type</th>\n",
              "      <th>price</th>\n",
              "      <th>minimum_nights</th>\n",
              "      <th>number_of_reviews</th>\n",
              "      <th>last_review</th>\n",
              "      <th>reviews_per_month</th>\n",
              "      <th>calculated_host_listings_count</th>\n",
              "      <th>availability_365</th>\n",
              "    </tr>\n",
              "  </thead>\n",
              "  <tbody>\n",
              "    <tr>\n",
              "      <th>0</th>\n",
              "      <td>2078</td>\n",
              "      <td>Central comfy close to Metro Laurie</td>\n",
              "      <td>2277</td>\n",
              "      <td>Nelia</td>\n",
              "      <td>NaN</td>\n",
              "      <td>Le Plateau-Mont-Royal</td>\n",
              "      <td>45.53069</td>\n",
              "      <td>-73.58588</td>\n",
              "      <td>Private room</td>\n",
              "      <td>40</td>\n",
              "      <td>2</td>\n",
              "      <td>245</td>\n",
              "      <td>2018-09-23</td>\n",
              "      <td>2.31</td>\n",
              "      <td>1</td>\n",
              "      <td>137</td>\n",
              "    </tr>\n",
              "    <tr>\n",
              "      <th>1</th>\n",
              "      <td>2843</td>\n",
              "      <td>Fabulous downtown/airport room</td>\n",
              "      <td>2319</td>\n",
              "      <td>Gail</td>\n",
              "      <td>NaN</td>\n",
              "      <td>Le Sud-Ouest</td>\n",
              "      <td>45.48496</td>\n",
              "      <td>-73.58001</td>\n",
              "      <td>Private room</td>\n",
              "      <td>30</td>\n",
              "      <td>2</td>\n",
              "      <td>143</td>\n",
              "      <td>2019-12-30</td>\n",
              "      <td>1.08</td>\n",
              "      <td>6</td>\n",
              "      <td>229</td>\n",
              "    </tr>\n",
              "    <tr>\n",
              "      <th>2</th>\n",
              "      <td>29059</td>\n",
              "      <td>Lovely studio Quartier Latin</td>\n",
              "      <td>125031</td>\n",
              "      <td>Maryline</td>\n",
              "      <td>NaN</td>\n",
              "      <td>Ville-Marie</td>\n",
              "      <td>45.51939</td>\n",
              "      <td>-73.56482</td>\n",
              "      <td>Entire home/apt</td>\n",
              "      <td>80</td>\n",
              "      <td>2</td>\n",
              "      <td>326</td>\n",
              "      <td>2020-03-20</td>\n",
              "      <td>2.70</td>\n",
              "      <td>2</td>\n",
              "      <td>333</td>\n",
              "    </tr>\n",
              "    <tr>\n",
              "      <th>3</th>\n",
              "      <td>29061</td>\n",
              "      <td>Maison historique - Quartier Latin</td>\n",
              "      <td>125031</td>\n",
              "      <td>Maryline</td>\n",
              "      <td>NaN</td>\n",
              "      <td>Ville-Marie</td>\n",
              "      <td>45.51929</td>\n",
              "      <td>-73.56493</td>\n",
              "      <td>Entire home/apt</td>\n",
              "      <td>145</td>\n",
              "      <td>3</td>\n",
              "      <td>66</td>\n",
              "      <td>2020-02-17</td>\n",
              "      <td>0.66</td>\n",
              "      <td>2</td>\n",
              "      <td>324</td>\n",
              "    </tr>\n",
              "    <tr>\n",
              "      <th>4</th>\n",
              "      <td>31847</td>\n",
              "      <td>Downtown/Airport room</td>\n",
              "      <td>2319</td>\n",
              "      <td>Gail</td>\n",
              "      <td>NaN</td>\n",
              "      <td>Le Sud-Ouest</td>\n",
              "      <td>45.48467</td>\n",
              "      <td>-73.57995</td>\n",
              "      <td>Private room</td>\n",
              "      <td>30</td>\n",
              "      <td>2</td>\n",
              "      <td>153</td>\n",
              "      <td>2020-01-07</td>\n",
              "      <td>1.27</td>\n",
              "      <td>6</td>\n",
              "      <td>259</td>\n",
              "    </tr>\n",
              "  </tbody>\n",
              "</table>\n",
              "</div>"
            ],
            "text/plain": [
              "      id  ... availability_365\n",
              "0   2078  ...              137\n",
              "1   2843  ...              229\n",
              "2  29059  ...              333\n",
              "3  29061  ...              324\n",
              "4  31847  ...              259\n",
              "\n",
              "[5 rows x 16 columns]"
            ]
          },
          "metadata": {
            "tags": []
          },
          "execution_count": 3
        }
      ]
    },
    {
      "cell_type": "markdown",
      "metadata": {
        "id": "6-B_qtEaYEd-"
      },
      "source": [
        "### **Q1. How many attributes (variables) and how many entries does our dataset have? What are the types of variables?**\n",
        "Let's go ahead and identify the number of entries that our dataset has and see the types of each column. It is possible to observe that we have in this dataset a set of 19,133 data entries with 16 variables (features)."
      ]
    },
    {
      "cell_type": "code",
      "metadata": {
        "id": "TFRK0tniLV-G",
        "outputId": "abe4b23f-ed70-4816-963b-f9221815e061",
        "colab": {
          "base_uri": "https://localhost:8080/",
          "height": 357
        }
      },
      "source": [
        "# identify the data volume\n",
        "print(\"Rows:\\t {}\".format(df.shape[0]))\n",
        "print(\"Features:\\t {}\\n\".format(df.shape[1]))\n",
        "# Check the first five dataset entries\n",
        "display(df.dtypes)"
      ],
      "execution_count": null,
      "outputs": [
        {
          "output_type": "stream",
          "text": [
            "Rows:\t 19133\n",
            "Features:\t 16\n",
            "\n"
          ],
          "name": "stdout"
        },
        {
          "output_type": "display_data",
          "data": {
            "text/plain": [
              "id                                  int64\n",
              "name                               object\n",
              "host_id                             int64\n",
              "host_name                          object\n",
              "neighbourhood_group               float64\n",
              "neighbourhood                      object\n",
              "latitude                          float64\n",
              "longitude                         float64\n",
              "room_type                          object\n",
              "price                               int64\n",
              "minimum_nights                      int64\n",
              "number_of_reviews                   int64\n",
              "last_review                        object\n",
              "reviews_per_month                 float64\n",
              "calculated_host_listings_count      int64\n",
              "availability_365                    int64\n",
              "dtype: object"
            ]
          },
          "metadata": {
            "tags": []
          }
        }
      ]
    },
    {
      "cell_type": "markdown",
      "metadata": {
        "id": "yz1urSUGW9iE"
      },
      "source": [
        "### **Q2. What is the percentage of missing values ​​in the dataset?**\n",
        "The quality of a dataset is directly related to the number of missing values. It is important to understand early on whether these null values ​​are significant compared to the total entries.\n",
        "\n",
        "You can see that:\n",
        "* The `neighbourhood_group` column has 100% of its missing values.\n",
        "* The variables `reviews_per_month` and `last_review` have null values around 21% of the lines.\n",
        "* Except for the `name` and `host_name` variables, they have approximately less than 0.1% of the null values only, the other variables are 100% filled!\n"
      ]
    },
    {
      "cell_type": "code",
      "metadata": {
        "id": "plk2FjbCXOqP",
        "outputId": "0a6b84ed-ee13-4322-e2ac-ce0aba74288a",
        "colab": {
          "base_uri": "https://localhost:8080/",
          "height": 306
        }
      },
      "source": [
        "# Sort the variables in descending order by their missing values\n",
        "(df.isnull().sum() / df.shape[0]).sort_values(ascending=False)"
      ],
      "execution_count": null,
      "outputs": [
        {
          "output_type": "execute_result",
          "data": {
            "text/plain": [
              "neighbourhood_group               1.000000\n",
              "reviews_per_month                 0.213662\n",
              "last_review                       0.213662\n",
              "name                              0.000941\n",
              "host_name                         0.000052\n",
              "availability_365                  0.000000\n",
              "calculated_host_listings_count    0.000000\n",
              "number_of_reviews                 0.000000\n",
              "minimum_nights                    0.000000\n",
              "price                             0.000000\n",
              "room_type                         0.000000\n",
              "longitude                         0.000000\n",
              "latitude                          0.000000\n",
              "neighbourhood                     0.000000\n",
              "host_id                           0.000000\n",
              "id                                0.000000\n",
              "dtype: float64"
            ]
          },
          "metadata": {
            "tags": []
          },
          "execution_count": 5
        }
      ]
    },
    {
      "cell_type": "markdown",
      "metadata": {
        "id": "q2wWSfeRbmBo"
      },
      "source": [
        "### **Q3. What is the type of distribution of the variables?** \n",
        "To identify the distribution of variables, we will plot the histogram. It is possible to observe in the analysis of the histograms below that there are **outliers** in the `minimum_nights` variables since it does not make sense to reserve a minimum period for 2000, 4000, or 12000 nights. Another clashing variable is the `price` with a daily rate reaching 12500, which differs from the value profile of accommodation on Airbnb.\n"
      ]
    },
    {
      "cell_type": "code",
      "metadata": {
        "id": "ITVYtcD-1z5e",
        "outputId": "c53afc37-4f4a-4965-a023-fa620cc8c6d7",
        "colab": {
          "base_uri": "https://localhost:8080/",
          "height": 607
        }
      },
      "source": [
        "# Plot histogram of the numerical variables\n",
        "df.hist(bins=15, figsize=(15,10));"
      ],
      "execution_count": null,
      "outputs": [
        {
          "output_type": "display_data",
          "data": {
            "image/png": "[encoded data removed]",
            "text/plain": [
              "<Figure size 1080x720 with 12 Axes>"
            ]
          },
          "metadata": {
            "tags": [],
            "needs_background": "light"
          }
        }
      ]
    },
    {
      "cell_type": "markdown",
      "metadata": {
        "id": "wO9qbMo1Si-G"
      },
      "source": [
        "### Q3.1 A brief analysis of outliers"
      ]
    },
    {
      "cell_type": "markdown",
      "metadata": {
        "id": "2dCpHg2ESfh5"
      },
      "source": [
        "As mentioned above, by the distribution of the histogram, it is possible to verify signs of the presence of **outliers**.\n",
        "Outliers are those data that will 'harm' our analysis because they will pull the distribution to the extremes of the histogram. The values ​​do not follow the distribution and distort the graphical representation. There are two quick ways to help detect outliers:\n",
        "* Statistical summary using the `describe()` method\n",
        "* Plot boxplots for the variable\n"
      ]
    },
    {
      "cell_type": "code",
      "metadata": {
        "id": "WjWdIzodTufP",
        "outputId": "69f99d2a-a3fd-4bd7-e535-4740ccdfaa9b",
        "colab": {
          "base_uri": "https://localhost:8080/",
          "height": 317
        }
      },
      "source": [
        "# See the statistical summary of the most relevant numerical variables\n",
        "df[['price','minimum_nights','number_of_reviews','reviews_per_month', 'calculated_host_listings_count', 'availability_365']].describe()"
      ],
      "execution_count": null,
      "outputs": [
        {
          "output_type": "execute_result",
          "data": {
            "text/html": [
              "<div>\n",
              "<style scoped>\n",
              "    .dataframe tbody tr th:only-of-type {\n",
              "        vertical-align: middle;\n",
              "    }\n",
              "\n",
              "    .dataframe tbody tr th {\n",
              "        vertical-align: top;\n",
              "    }\n",
              "\n",
              "    .dataframe thead th {\n",
              "        text-align: right;\n",
              "    }\n",
              "</style>\n",
              "<table border=\"1\" class=\"dataframe\">\n",
              "  <thead>\n",
              "    <tr style=\"text-align: right;\">\n",
              "      <th></th>\n",
              "      <th>price</th>\n",
              "      <th>minimum_nights</th>\n",
              "      <th>number_of_reviews</th>\n",
              "      <th>reviews_per_month</th>\n",
              "      <th>calculated_host_listings_count</th>\n",
              "      <th>availability_365</th>\n",
              "    </tr>\n",
              "  </thead>\n",
              "  <tbody>\n",
              "    <tr>\n",
              "      <th>count</th>\n",
              "      <td>19133.000000</td>\n",
              "      <td>19133.000000</td>\n",
              "      <td>19133.000000</td>\n",
              "      <td>15045.000000</td>\n",
              "      <td>19133.000000</td>\n",
              "      <td>19133.000000</td>\n",
              "    </tr>\n",
              "    <tr>\n",
              "      <th>mean</th>\n",
              "      <td>112.624680</td>\n",
              "      <td>11.671196</td>\n",
              "      <td>22.426854</td>\n",
              "      <td>1.103414</td>\n",
              "      <td>6.082319</td>\n",
              "      <td>102.340511</td>\n",
              "    </tr>\n",
              "    <tr>\n",
              "      <th>std</th>\n",
              "      <td>227.900843</td>\n",
              "      <td>91.758070</td>\n",
              "      <td>45.875224</td>\n",
              "      <td>1.483557</td>\n",
              "      <td>14.592341</td>\n",
              "      <td>130.983845</td>\n",
              "    </tr>\n",
              "    <tr>\n",
              "      <th>min</th>\n",
              "      <td>10.000000</td>\n",
              "      <td>1.000000</td>\n",
              "      <td>0.000000</td>\n",
              "      <td>0.010000</td>\n",
              "      <td>1.000000</td>\n",
              "      <td>0.000000</td>\n",
              "    </tr>\n",
              "    <tr>\n",
              "      <th>25%</th>\n",
              "      <td>49.000000</td>\n",
              "      <td>1.000000</td>\n",
              "      <td>1.000000</td>\n",
              "      <td>0.150000</td>\n",
              "      <td>1.000000</td>\n",
              "      <td>0.000000</td>\n",
              "    </tr>\n",
              "    <tr>\n",
              "      <th>50%</th>\n",
              "      <td>78.000000</td>\n",
              "      <td>2.000000</td>\n",
              "      <td>5.000000</td>\n",
              "      <td>0.470000</td>\n",
              "      <td>1.000000</td>\n",
              "      <td>22.000000</td>\n",
              "    </tr>\n",
              "    <tr>\n",
              "      <th>75%</th>\n",
              "      <td>120.000000</td>\n",
              "      <td>6.000000</td>\n",
              "      <td>22.000000</td>\n",
              "      <td>1.450000</td>\n",
              "      <td>3.000000</td>\n",
              "      <td>179.000000</td>\n",
              "    </tr>\n",
              "    <tr>\n",
              "      <th>max</th>\n",
              "      <td>13294.000000</td>\n",
              "      <td>11684.000000</td>\n",
              "      <td>702.000000</td>\n",
              "      <td>12.580000</td>\n",
              "      <td>114.000000</td>\n",
              "      <td>365.000000</td>\n",
              "    </tr>\n",
              "  </tbody>\n",
              "</table>\n",
              "</div>"
            ],
            "text/plain": [
              "              price  ...  availability_365\n",
              "count  19133.000000  ...      19133.000000\n",
              "mean     112.624680  ...        102.340511\n",
              "std      227.900843  ...        130.983845\n",
              "min       10.000000  ...          0.000000\n",
              "25%       49.000000  ...          0.000000\n",
              "50%       78.000000  ...         22.000000\n",
              "75%      120.000000  ...        179.000000\n",
              "max    13294.000000  ...        365.000000\n",
              "\n",
              "[8 rows x 6 columns]"
            ]
          },
          "metadata": {
            "tags": []
          },
          "execution_count": 7
        }
      ]
    },
    {
      "cell_type": "markdown",
      "metadata": {
        "id": "VDNix2PoUzXT"
      },
      "source": [
        "Analysis of the variables `price` and `minimun_nights` based on the statistical summary:\n",
        "* **`Price` variable:** \n",
        "  * We have an average daily rate of 112.62 in Montreal, with a standard deviation of 227.90.\n",
        "  * Does a minimum daily rate for R $ 10.00 make sense?\n",
        "  * And a maximum daily rate for 13.294?\n",
        "  * 75% of the values ​​are below 120.00.\n",
        "  * The median is 78.00 (Half of the values ​​are up to 78.00)\n",
        "* **`Minimum_nights` variable:** \n",
        "  * We have an average daily minimum of 11.67, with a standard deviation of 91.75. \n",
        "  * Does a minimum of 11684.00 nights (32 years old !!!) make sense? Certainly not! \n",
        "  * We can observe that 75% of the registrations are up to 6 nights.\n",
        "  * By the median, we observed that the minimum number of nights for half of the accommodations is 2."
      ]
    },
    {
      "cell_type": "markdown",
      "metadata": {
        "id": "ePq554wdYAEM"
      },
      "source": [
        "### Boxplot for `price` variable:"
      ]
    },
    {
      "cell_type": "code",
      "metadata": {
        "id": "uEuzJeccX_Gp",
        "outputId": "5ae4a91f-467f-4576-9f93-e32bad461076",
        "colab": {
          "base_uri": "https://localhost:8080/",
          "height": 211
        }
      },
      "source": [
        "df.price.plot(kind='box', vert=False, figsize=(15,3))\n",
        "plt.show()"
      ],
      "execution_count": null,
      "outputs": [
        {
          "output_type": "display_data",
          "data": {
            "image/png": "[encoded data removed]",
            "text/plain": [
              "<Figure size 1080x216 with 1 Axes>"
            ]
          },
          "metadata": {
            "tags": [],
            "needs_background": "light"
          }
        }
      ]
    },
    {
      "cell_type": "markdown",
      "metadata": {
        "id": "iaoGTAZaZv67"
      },
      "source": [
        "Through the boxplot, it is possible to check the number of outliers, represented outside the standard rectangle of this type of graph. With some explorations, we can note below that only 1.53% of the data represents a daily rate above 500.00. Values ​​above 1000 represent 0.42% of the data."
      ]
    },
    {
      "cell_type": "code",
      "metadata": {
        "id": "DheKkdnLYtMw",
        "outputId": "c4e20641-f478-42e3-95ff-4b133c46cb47",
        "colab": {
          "base_uri": "https://localhost:8080/",
          "height": 68
        }
      },
      "source": [
        "# See the number of values ​​above 500 for price\n",
        "print(\"values ​​above 500 for price:\")\n",
        "print(\"{} entries\".format(len(df[df.price>500])))\n",
        "print(\"{:.4f}%\".format((len(df[df.price>500])/df.shape[0])*100))"
      ],
      "execution_count": null,
      "outputs": [
        {
          "output_type": "stream",
          "text": [
            "values ​​above 500 for price:\n",
            "293 entries\n",
            "1.5314%\n"
          ],
          "name": "stdout"
        }
      ]
    },
    {
      "cell_type": "code",
      "metadata": {
        "id": "n6vDU37JaX24",
        "outputId": "07ec9231-e848-4045-c1d6-57559ec96c3b",
        "colab": {
          "base_uri": "https://localhost:8080/",
          "height": 68
        }
      },
      "source": [
        "# See the number of values ​​above 1000 for price.\n",
        "print(\"values ​​above 1000 for price:\")\n",
        "print(\"{} entries\".format(len(df[df.price>1000])))\n",
        "print(\"{:.4f}%\".format((len(df[df.price>1000])/df.shape[0])*100))"
      ],
      "execution_count": null,
      "outputs": [
        {
          "output_type": "stream",
          "text": [
            "values ​​above 1000 for price:\n",
            "80 entries\n",
            "0.4181%\n"
          ],
          "name": "stdout"
        }
      ]
    },
    {
      "cell_type": "markdown",
      "metadata": {
        "id": "JZ9wyn-FbMCQ"
      },
      "source": [
        "### Boxplot for `minimum_nights`"
      ]
    },
    {
      "cell_type": "code",
      "metadata": {
        "id": "ElL6W9vqbdzi",
        "outputId": "2f03f4aa-3679-43e4-daee-7587675444b2",
        "colab": {
          "base_uri": "https://localhost:8080/",
          "height": 211
        }
      },
      "source": [
        "df.minimum_nights.plot(kind='box', vert=False, figsize=(15,3))\n",
        "plt.show()"
      ],
      "execution_count": null,
      "outputs": [
        {
          "output_type": "display_data",
          "data": {
            "image/png": "[encoded data removed]",
            "text/plain": [
              "<Figure size 1080x216 with 1 Axes>"
            ]
          },
          "metadata": {
            "tags": [],
            "needs_background": "light"
          }
        }
      ]
    },
    {
      "cell_type": "markdown",
      "metadata": {
        "id": "v3lLmlSQcIAw"
      },
      "source": [
        "Through the boxplot, it is possible to check the number of outliers, represented outside the standard rectangle of this type of graph. With some explorations, we can observe below that 10.81% of the data represents a minimum daily rate above 30.  The minimum daily rate above 45 daily rates represents only 2.64% of the data.\n"
      ]
    },
    {
      "cell_type": "code",
      "metadata": {
        "id": "p8tTS-CVbm3Y",
        "outputId": "0f20f565-92a2-42b8-e7cb-75814b50cc7f",
        "colab": {
          "base_uri": "https://localhost:8080/",
          "height": 68
        }
      },
      "source": [
        "# See the number of values ​​above 30 for 'minimum_nights'\n",
        "print(\"minimum_nights: number of values ​​above 30\")\n",
        "print(\"{} entries\".format(len(df[df.minimum_nights>30])))\n",
        "print(\"{:.4f}%\".format((len(df[df.minimum_nights>30])/df.shape[0])*100))"
      ],
      "execution_count": null,
      "outputs": [
        {
          "output_type": "stream",
          "text": [
            "minimum_nights: number of values ​​above 30\n",
            "2069 entries\n",
            "10.8138%\n"
          ],
          "name": "stdout"
        }
      ]
    },
    {
      "cell_type": "code",
      "metadata": {
        "id": "NPVTXFo3dFbM",
        "outputId": "7dd9ff15-b2a0-4f88-a4d4-64c25b17201f",
        "colab": {
          "base_uri": "https://localhost:8080/",
          "height": 68
        }
      },
      "source": [
        "# See the number of values ​​above 45 for 'minimum_nights'\n",
        "print(\"minimum_nights: number of values ​​above 45\")\n",
        "print(\"{} entries\".format(len(df[df.minimum_nights>45])))\n",
        "print(\"{:.4f}%\".format((len(df[df.minimum_nights>45])/df.shape[0])*100))"
      ],
      "execution_count": null,
      "outputs": [
        {
          "output_type": "stream",
          "text": [
            "minimum_nights: number of values ​​above 45\n",
            "505 entries\n",
            "2.6394%\n"
          ],
          "name": "stdout"
        }
      ]
    },
    {
      "cell_type": "markdown",
      "metadata": {
        "id": "qfvC_dxndGLX"
      },
      "source": [
        "**Histogram without outliers**\n",
        "\n",
        "Since we identified outliers in the variables `price` and `minimum_nights`, let's clear their data frame and plot the histogram again."
      ]
    },
    {
      "cell_type": "code",
      "metadata": {
        "id": "SXI1OAN2b5Hy",
        "outputId": "b54f53a6-0c5f-4828-84cc-51c552496dee",
        "colab": {
          "base_uri": "https://localhost:8080/",
          "height": 607
        }
      },
      "source": [
        "# Remove *outliers* in a new dataframe\n",
        "df_clean = df.copy()\n",
        "df_clean.drop(df_clean[df_clean.price > 1000].index,axis=0, inplace=True)\n",
        "df_clean.drop(df_clean[df_clean.minimum_nights > 30].index,axis=0, inplace=True)\n",
        "\n",
        "# Remove 'neighbourhood_group' because it has null values\n",
        "df_clean.drop('neighbourhood_group', axis=1, inplace=True)\n",
        "\n",
        "# Plot the histogram for numerical variables\n",
        "df_clean.hist(bins=15, figsize=(15,10));"
      ],
      "execution_count": null,
      "outputs": [
        {
          "output_type": "display_data",
          "data": {
            "image/png": "[encoded data removed]",
            "text/plain": [
              "<Figure size 1080x720 with 12 Axes>"
            ]
          },
          "metadata": {
            "tags": [],
            "needs_background": "light"
          }
        }
      ]
    },
    {
      "cell_type": "markdown",
      "metadata": {
        "id": "I51KJqo3fFQ7"
      },
      "source": [
        "* From the new plot of the histograms, it is possible to observe that most people usually stay for two days, perhaps the typical weekend traveler. \n",
        "* As for the price, it is already possible to observe a better distribution for price variable, with the vast majority staying up to 400.00. \n",
        "* In the analysis of the statistical summary, considering only the variables treated from the outlier's perspective, there was a significant reduction in the standard deviation, that is, how much the records are out from the average."
      ]
    },
    {
      "cell_type": "code",
      "metadata": {
        "id": "8C-lrYDTtZm-",
        "outputId": "8a19c85d-1313-40ec-88ec-1d5b35b403fe",
        "colab": {
          "base_uri": "https://localhost:8080/",
          "height": 297
        }
      },
      "source": [
        "# See statistical summary after outliers removal for 'price' and 'minimum_nights' variables.\n",
        "df_clean[['price','minimum_nights']].describe()"
      ],
      "execution_count": null,
      "outputs": [
        {
          "output_type": "execute_result",
          "data": {
            "text/html": [
              "<div>\n",
              "<style scoped>\n",
              "    .dataframe tbody tr th:only-of-type {\n",
              "        vertical-align: middle;\n",
              "    }\n",
              "\n",
              "    .dataframe tbody tr th {\n",
              "        vertical-align: top;\n",
              "    }\n",
              "\n",
              "    .dataframe thead th {\n",
              "        text-align: right;\n",
              "    }\n",
              "</style>\n",
              "<table border=\"1\" class=\"dataframe\">\n",
              "  <thead>\n",
              "    <tr style=\"text-align: right;\">\n",
              "      <th></th>\n",
              "      <th>price</th>\n",
              "      <th>minimum_nights</th>\n",
              "    </tr>\n",
              "  </thead>\n",
              "  <tbody>\n",
              "    <tr>\n",
              "      <th>count</th>\n",
              "      <td>16995.000000</td>\n",
              "      <td>16995.000000</td>\n",
              "    </tr>\n",
              "    <tr>\n",
              "      <th>mean</th>\n",
              "      <td>104.130156</td>\n",
              "      <td>4.631598</td>\n",
              "    </tr>\n",
              "    <tr>\n",
              "      <th>std</th>\n",
              "      <td>104.397601</td>\n",
              "      <td>7.293638</td>\n",
              "    </tr>\n",
              "    <tr>\n",
              "      <th>min</th>\n",
              "      <td>10.000000</td>\n",
              "      <td>1.000000</td>\n",
              "    </tr>\n",
              "    <tr>\n",
              "      <th>25%</th>\n",
              "      <td>49.000000</td>\n",
              "      <td>1.000000</td>\n",
              "    </tr>\n",
              "    <tr>\n",
              "      <th>50%</th>\n",
              "      <td>78.000000</td>\n",
              "      <td>2.000000</td>\n",
              "    </tr>\n",
              "    <tr>\n",
              "      <th>75%</th>\n",
              "      <td>120.000000</td>\n",
              "      <td>4.000000</td>\n",
              "    </tr>\n",
              "    <tr>\n",
              "      <th>max</th>\n",
              "      <td>1000.000000</td>\n",
              "      <td>30.000000</td>\n",
              "    </tr>\n",
              "  </tbody>\n",
              "</table>\n",
              "</div>"
            ],
            "text/plain": [
              "              price  minimum_nights\n",
              "count  16995.000000    16995.000000\n",
              "mean     104.130156        4.631598\n",
              "std      104.397601        7.293638\n",
              "min       10.000000        1.000000\n",
              "25%       49.000000        1.000000\n",
              "50%       78.000000        2.000000\n",
              "75%      120.000000        4.000000\n",
              "max     1000.000000       30.000000"
            ]
          },
          "metadata": {
            "tags": []
          },
          "execution_count": 15
        }
      ]
    },
    {
      "cell_type": "markdown",
      "metadata": {
        "id": "7x4aw1j5wNmn"
      },
      "source": [
        "### **Q4. What is the average rental price?**\n",
        "Considering all the inputs of the variable `price`, we have an average value of **112.62**. If we consider the average from the elimination of outliers for this variable, we have the average rental price value of **104.13**."
      ]
    },
    {
      "cell_type": "code",
      "metadata": {
        "id": "ff-8gUahLk-C",
        "outputId": "7fcc12e2-62ce-4dde-86d6-10c8896a1cd1",
        "colab": {
          "base_uri": "https://localhost:8080/",
          "height": 34
        }
      },
      "source": [
        "# See average `price` (With outliers values)\n",
        "print(df['price'].mean())"
      ],
      "execution_count": null,
      "outputs": [
        {
          "output_type": "stream",
          "text": [
            "112.62467987247165\n"
          ],
          "name": "stdout"
        }
      ]
    },
    {
      "cell_type": "code",
      "metadata": {
        "id": "MK6Ls7VogAm1",
        "outputId": "1f6b62b4-037d-4bc3-d3a7-a5daaf316497",
        "colab": {
          "base_uri": "https://localhost:8080/",
          "height": 34
        }
      },
      "source": [
        "# See average `price` (Without outliers values)\n",
        "print(df_clean['price'].mean())"
      ],
      "execution_count": null,
      "outputs": [
        {
          "output_type": "stream",
          "text": [
            "104.13015592821418\n"
          ],
          "name": "stdout"
        }
      ]
    },
    {
      "cell_type": "markdown",
      "metadata": {
        "id": "IXn2oIo5qx-w"
      },
      "source": [
        "### **Q5. What is the correlation between the variables**\n",
        "Correlation means that there is a relationship between two things. \n",
        "In our context, we are looking for a relationship or similarity between two variables. \n",
        "This relationship can be measured, and it is a function of the correlation coefficient to establish its intensity. To identify the correlations between the variables of interest, we will do:\n",
        "\n",
        "*\tCreate a correlation matrix\n",
        "*\tCreate a heatmap from this matrix, using the seaborn library.\n"
      ]
    },
    {
      "cell_type": "code",
      "metadata": {
        "id": "x2ayzBajqxyd",
        "outputId": "28cb2306-f125-4b00-8929-d699dd2f0f47",
        "colab": {
          "base_uri": "https://localhost:8080/",
          "height": 255
        }
      },
      "source": [
        "# Create a correlation matrix\n",
        "corr = df_clean[['price', 'minimum_nights', 'number_of_reviews', 'reviews_per_month',\n",
        "    'calculated_host_listings_count', 'availability_365']].corr()\n",
        "# Show the correlation matrix\n",
        "display(corr)"
      ],
      "execution_count": null,
      "outputs": [
        {
          "output_type": "display_data",
          "data": {
            "text/html": [
              "<div>\n",
              "<style scoped>\n",
              "    .dataframe tbody tr th:only-of-type {\n",
              "        vertical-align: middle;\n",
              "    }\n",
              "\n",
              "    .dataframe tbody tr th {\n",
              "        vertical-align: top;\n",
              "    }\n",
              "\n",
              "    .dataframe thead th {\n",
              "        text-align: right;\n",
              "    }\n",
              "</style>\n",
              "<table border=\"1\" class=\"dataframe\">\n",
              "  <thead>\n",
              "    <tr style=\"text-align: right;\">\n",
              "      <th></th>\n",
              "      <th>price</th>\n",
              "      <th>minimum_nights</th>\n",
              "      <th>number_of_reviews</th>\n",
              "      <th>reviews_per_month</th>\n",
              "      <th>calculated_host_listings_count</th>\n",
              "      <th>availability_365</th>\n",
              "    </tr>\n",
              "  </thead>\n",
              "  <tbody>\n",
              "    <tr>\n",
              "      <th>price</th>\n",
              "      <td>1.000000</td>\n",
              "      <td>-0.024652</td>\n",
              "      <td>0.022752</td>\n",
              "      <td>0.047501</td>\n",
              "      <td>0.076375</td>\n",
              "      <td>0.124276</td>\n",
              "    </tr>\n",
              "    <tr>\n",
              "      <th>minimum_nights</th>\n",
              "      <td>-0.024652</td>\n",
              "      <td>1.000000</td>\n",
              "      <td>-0.054440</td>\n",
              "      <td>-0.096786</td>\n",
              "      <td>0.173103</td>\n",
              "      <td>0.142470</td>\n",
              "    </tr>\n",
              "    <tr>\n",
              "      <th>number_of_reviews</th>\n",
              "      <td>0.022752</td>\n",
              "      <td>-0.054440</td>\n",
              "      <td>1.000000</td>\n",
              "      <td>0.748078</td>\n",
              "      <td>0.081659</td>\n",
              "      <td>0.165327</td>\n",
              "    </tr>\n",
              "    <tr>\n",
              "      <th>reviews_per_month</th>\n",
              "      <td>0.047501</td>\n",
              "      <td>-0.096786</td>\n",
              "      <td>0.748078</td>\n",
              "      <td>1.000000</td>\n",
              "      <td>0.088741</td>\n",
              "      <td>0.181722</td>\n",
              "    </tr>\n",
              "    <tr>\n",
              "      <th>calculated_host_listings_count</th>\n",
              "      <td>0.076375</td>\n",
              "      <td>0.173103</td>\n",
              "      <td>0.081659</td>\n",
              "      <td>0.088741</td>\n",
              "      <td>1.000000</td>\n",
              "      <td>0.124460</td>\n",
              "    </tr>\n",
              "    <tr>\n",
              "      <th>availability_365</th>\n",
              "      <td>0.124276</td>\n",
              "      <td>0.142470</td>\n",
              "      <td>0.165327</td>\n",
              "      <td>0.181722</td>\n",
              "      <td>0.124460</td>\n",
              "      <td>1.000000</td>\n",
              "    </tr>\n",
              "  </tbody>\n",
              "</table>\n",
              "</div>"
            ],
            "text/plain": [
              "                                   price  ...  availability_365\n",
              "price                           1.000000  ...          0.124276\n",
              "minimum_nights                 -0.024652  ...          0.142470\n",
              "number_of_reviews               0.022752  ...          0.165327\n",
              "reviews_per_month               0.047501  ...          0.181722\n",
              "calculated_host_listings_count  0.076375  ...          0.124460\n",
              "availability_365                0.124276  ...          1.000000\n",
              "\n",
              "[6 rows x 6 columns]"
            ]
          },
          "metadata": {
            "tags": []
          }
        }
      ]
    },
    {
      "cell_type": "code",
      "metadata": {
        "id": "91UujDr6ueqE",
        "outputId": "0afd8c47-9bfc-45f2-ca74-cd3c79eb1ffa",
        "colab": {
          "base_uri": "https://localhost:8080/",
          "height": 428
        }
      },
      "source": [
        "# Plot the heatmap\n",
        "sns.heatmap(corr, cmap=\"RdBu\", fmt='.2f',square=True, linecolor='white',annot=True)"
      ],
      "execution_count": null,
      "outputs": [
        {
          "output_type": "execute_result",
          "data": {
            "text/plain": [
              "<matplotlib.axes._subplots.AxesSubplot at 0x7f4fb365bba8>"
            ]
          },
          "metadata": {
            "tags": []
          },
          "execution_count": 19
        },
        {
          "output_type": "display_data",
          "data": {
            "image/png": "[encoded data removed]",
            "text/plain": [
              "<Figure size 432x288 with 2 Axes>"
            ]
          },
          "metadata": {
            "tags": [],
            "needs_background": "light"
          }
        }
      ]
    },
    {
      "cell_type": "markdown",
      "metadata": {
        "id": "oE46wu5ng76-"
      },
      "source": [
        "It is possible to observe a moderate positive correlation between the `number_of_reviews` and `reviews_per_month` variables of 0.75. This correlation shows how much they are associated with each other, how much one influences the other, because naturally, a hosting with more reviews will have more registered reviews at the end of the month. It is important to highlight that not necessarily a correlation will indicate a cause and effect relationship."
      ]
    },
    {
      "cell_type": "markdown",
      "metadata": {
        "id": "7b6RMWpuHKN-"
      },
      "source": [
        "### **Q6. What type of property is most rented on Airbnb??**\n",
        "The `room_type` variable column indicates the type of rental that is advertised on Airbnb. For example, entire apartments/houses, just renting a room or even sharing a room with other people.\n",
        "\n",
        "* •\t87% of the type of accommodation is in whole apartments (61.2%) or private rooms (26.5%).\n",
        "* Of the first 15 neighborhoods with the most accommodation offer, we can observe that 4 concentrates 70.1% of the accommodations in Montreal: \n",
        "  * Le Plateau-Mont-Royal(28,7%), Ville-Marie(24,8%), Rosemont-La Petite-Patrie(10.1%) and Côte-des-Neiges-Notre-Dame-de-Grâce(7,1%)."
      ]
    },
    {
      "cell_type": "code",
      "metadata": {
        "id": "ueLPNWvPHgfB",
        "outputId": "9882f857-2b32-4989-ed95-60deaf36e337",
        "colab": {
          "base_uri": "https://localhost:8080/",
          "height": 102
        }
      },
      "source": [
        "# Show the number of property by type\n",
        "df_clean.room_type.value_counts()"
      ],
      "execution_count": null,
      "outputs": [
        {
          "output_type": "execute_result",
          "data": {
            "text/plain": [
              "Entire home/apt    11713\n",
              "Private room        5074\n",
              "Shared room          146\n",
              "Hotel room            62\n",
              "Name: room_type, dtype: int64"
            ]
          },
          "metadata": {
            "tags": []
          },
          "execution_count": 20
        }
      ]
    },
    {
      "cell_type": "code",
      "metadata": {
        "id": "EvwoO-XAHhIm",
        "outputId": "2c0b162d-a3e0-444b-e2f3-b9f66c12fc50",
        "colab": {
          "base_uri": "https://localhost:8080/",
          "height": 102
        }
      },
      "source": [
        "# Show the percentage available for each type of property\n",
        "df_clean.room_type.value_counts() / df.shape[0]"
      ],
      "execution_count": null,
      "outputs": [
        {
          "output_type": "execute_result",
          "data": {
            "text/plain": [
              "Entire home/apt    0.612188\n",
              "Private room       0.265196\n",
              "Shared room        0.007631\n",
              "Hotel room         0.003240\n",
              "Name: room_type, dtype: float64"
            ]
          },
          "metadata": {
            "tags": []
          },
          "execution_count": 21
        }
      ]
    },
    {
      "cell_type": "code",
      "metadata": {
        "id": "c0X7DbZIilmm",
        "outputId": "fb7443d6-da6a-4d99-dfbf-07d5db6c1c1e",
        "colab": {
          "base_uri": "https://localhost:8080/",
          "height": 289
        }
      },
      "source": [
        "# Show the number of properties by neighborhood, classifying the first 15 properties.\n",
        "df_clean.neighbourhood.value_counts().sort_values(ascending=False)[:15]"
      ],
      "execution_count": null,
      "outputs": [
        {
          "output_type": "execute_result",
          "data": {
            "text/plain": [
              "Le Plateau-Mont-Royal                   4881\n",
              "Ville-Marie                             4226\n",
              "Rosemont-La Petite-Patrie               1715\n",
              "Côte-des-Neiges-Notre-Dame-de-Grâce     1203\n",
              "Villeray-Saint-Michel-Parc-Extension    1027\n",
              "Le Sud-Ouest                            1024\n",
              "Mercier-Hochelaga-Maisonneuve            860\n",
              "Verdun                                   418\n",
              "Ahuntsic-Cartierville                    280\n",
              "Outremont                                240\n",
              "LaSalle                                  160\n",
              "Saint-Laurent                            150\n",
              "Westmount                                100\n",
              "Lachine                                   89\n",
              "Saint-Léonard                             76\n",
              "Name: neighbourhood, dtype: int64"
            ]
          },
          "metadata": {
            "tags": []
          },
          "execution_count": 22
        }
      ]
    },
    {
      "cell_type": "code",
      "metadata": {
        "id": "-E5of2ijk0DG",
        "outputId": "04dc83e7-86d9-4303-a7d6-66c4510af64b",
        "colab": {
          "base_uri": "https://localhost:8080/",
          "height": 289
        }
      },
      "source": [
        "df_clean.neighbourhood.value_counts().sort_values(ascending=False)[:15] / df_clean.shape[0]"
      ],
      "execution_count": null,
      "outputs": [
        {
          "output_type": "execute_result",
          "data": {
            "text/plain": [
              "Le Plateau-Mont-Royal                   0.287202\n",
              "Ville-Marie                             0.248661\n",
              "Rosemont-La Petite-Patrie               0.100912\n",
              "Côte-des-Neiges-Notre-Dame-de-Grâce     0.070786\n",
              "Villeray-Saint-Michel-Parc-Extension    0.060430\n",
              "Le Sud-Ouest                            0.060253\n",
              "Mercier-Hochelaga-Maisonneuve           0.050603\n",
              "Verdun                                  0.024595\n",
              "Ahuntsic-Cartierville                   0.016475\n",
              "Outremont                               0.014122\n",
              "LaSalle                                 0.009415\n",
              "Saint-Laurent                           0.008826\n",
              "Westmount                               0.005884\n",
              "Lachine                                 0.005237\n",
              "Saint-Léonard                           0.004472\n",
              "Name: neighbourhood, dtype: float64"
            ]
          },
          "metadata": {
            "tags": []
          },
          "execution_count": 23
        }
      ]
    },
    {
      "cell_type": "markdown",
      "metadata": {
        "id": "MFa5NbnLJMcd"
      },
      "source": [
        "### **Q7. What is the most expensive location in the dataset??**\n",
        "One way to check one variable against another is to use `groupby()`. In this case, we want to compare neighborhoods based on the rental price. As analyzed below, the Baie-d'Urfé neighborhood is the most expensive neighborhood due to hosting ID 21688243 that has a daily rate of 423 and is raising the average cost of the region.\n"
      ]
    },
    {
      "cell_type": "code",
      "metadata": {
        "id": "fjmfQE-H6bNU",
        "outputId": "2dd2b47e-f807-4322-a0bd-f1c00248a204",
        "colab": {
          "base_uri": "https://localhost:8080/",
          "height": 306
        }
      },
      "source": [
        "# See average prices per neighborhood\n",
        "df_clean.groupby(['neighbourhood']).price.mean().sort_values(ascending=False)[:15]"
      ],
      "execution_count": null,
      "outputs": [
        {
          "output_type": "execute_result",
          "data": {
            "text/plain": [
              "neighbourhood\n",
              "Baie-d'Urfé                      217.666667\n",
              "Westmount                        156.220000\n",
              "L'Île-Bizard-Sainte-Geneviève    136.388889\n",
              "Montréal-Est                     134.250000\n",
              "Ville-Marie                      124.311879\n",
              "Outremont                        122.112500\n",
              "Montréal-Ouest                   116.230769\n",
              "Beaconsfield                     115.937500\n",
              "Côte-Saint-Luc                   113.255319\n",
              "Le Plateau-Mont-Royal            108.092194\n",
              "Le Sud-Ouest                     107.674805\n",
              "Mont-Royal                       107.131579\n",
              "Dollard-des-Ormeaux              104.909091\n",
              "Saint-Léonard                    102.552632\n",
              "Lachine                           93.853933\n",
              "Name: price, dtype: float64"
            ]
          },
          "metadata": {
            "tags": []
          },
          "execution_count": 24
        }
      ]
    },
    {
      "cell_type": "code",
      "metadata": {
        "id": "MD_xa143JZpi",
        "outputId": "0ff0f8d8-5d67-4fc3-a1e8-716e3122268c",
        "colab": {
          "base_uri": "https://localhost:8080/",
          "height": 119
        }
      },
      "source": [
        "# See the number of properties in Baie-d'Urfé\n",
        "print(df_clean[df_clean.neighbourhood==\"Baie-d'Urfé\"])"
      ],
      "execution_count": null,
      "outputs": [
        {
          "output_type": "stream",
          "text": [
            "             id  ... availability_365\n",
            "74       211602  ...              346\n",
            "1277    4180573  ...              365\n",
            "10350  25783067  ...                0\n",
            "\n",
            "[3 rows x 15 columns]\n"
          ],
          "name": "stdout"
        }
      ]
    },
    {
      "cell_type": "code",
      "metadata": {
        "id": "kWTwyrve60_0",
        "outputId": "b63ed675-ee46-41e0-bbab-ef9f76bbd6cd",
        "colab": {
          "base_uri": "https://localhost:8080/",
          "height": 366
        }
      },
      "source": [
        "# See 3 first entries for Baie-d'Urfé\n",
        "df_clean[df.neighbourhood==\"Baie-d'Urfé\"]"
      ],
      "execution_count": null,
      "outputs": [
        {
          "output_type": "stream",
          "text": [
            "/usr/local/lib/python3.6/dist-packages/ipykernel_launcher.py:2: UserWarning: Boolean Series key will be reindexed to match DataFrame index.\n",
            "  \n"
          ],
          "name": "stderr"
        },
        {
          "output_type": "execute_result",
          "data": {
            "text/html": [
              "<div>\n",
              "<style scoped>\n",
              "    .dataframe tbody tr th:only-of-type {\n",
              "        vertical-align: middle;\n",
              "    }\n",
              "\n",
              "    .dataframe tbody tr th {\n",
              "        vertical-align: top;\n",
              "    }\n",
              "\n",
              "    .dataframe thead th {\n",
              "        text-align: right;\n",
              "    }\n",
              "</style>\n",
              "<table border=\"1\" class=\"dataframe\">\n",
              "  <thead>\n",
              "    <tr style=\"text-align: right;\">\n",
              "      <th></th>\n",
              "      <th>id</th>\n",
              "      <th>name</th>\n",
              "      <th>host_id</th>\n",
              "      <th>host_name</th>\n",
              "      <th>neighbourhood</th>\n",
              "      <th>latitude</th>\n",
              "      <th>longitude</th>\n",
              "      <th>room_type</th>\n",
              "      <th>price</th>\n",
              "      <th>minimum_nights</th>\n",
              "      <th>number_of_reviews</th>\n",
              "      <th>last_review</th>\n",
              "      <th>reviews_per_month</th>\n",
              "      <th>calculated_host_listings_count</th>\n",
              "      <th>availability_365</th>\n",
              "    </tr>\n",
              "  </thead>\n",
              "  <tbody>\n",
              "    <tr>\n",
              "      <th>74</th>\n",
              "      <td>211602</td>\n",
              "      <td>Beautiful sun-filled Studio</td>\n",
              "      <td>407029</td>\n",
              "      <td>Hans</td>\n",
              "      <td>Baie-d'Urfé</td>\n",
              "      <td>45.41419</td>\n",
              "      <td>-73.90768</td>\n",
              "      <td>Entire home/apt</td>\n",
              "      <td>71</td>\n",
              "      <td>2</td>\n",
              "      <td>159</td>\n",
              "      <td>2019-08-20</td>\n",
              "      <td>2.00</td>\n",
              "      <td>1</td>\n",
              "      <td>346</td>\n",
              "    </tr>\n",
              "    <tr>\n",
              "      <th>1277</th>\n",
              "      <td>4180573</td>\n",
              "      <td>Serenity dream in Montreal Quebec......</td>\n",
              "      <td>21688243</td>\n",
              "      <td>Simin</td>\n",
              "      <td>Baie-d'Urfé</td>\n",
              "      <td>45.41190</td>\n",
              "      <td>-73.91085</td>\n",
              "      <td>Entire home/apt</td>\n",
              "      <td>423</td>\n",
              "      <td>7</td>\n",
              "      <td>0</td>\n",
              "      <td>NaN</td>\n",
              "      <td>NaN</td>\n",
              "      <td>2</td>\n",
              "      <td>365</td>\n",
              "    </tr>\n",
              "    <tr>\n",
              "      <th>10350</th>\n",
              "      <td>25783067</td>\n",
              "      <td>Two-bedroom studio with simple breakfast &amp; pool</td>\n",
              "      <td>41285013</td>\n",
              "      <td>Wendy</td>\n",
              "      <td>Baie-d'Urfé</td>\n",
              "      <td>45.41361</td>\n",
              "      <td>-73.90494</td>\n",
              "      <td>Entire home/apt</td>\n",
              "      <td>159</td>\n",
              "      <td>3</td>\n",
              "      <td>39</td>\n",
              "      <td>2019-08-29</td>\n",
              "      <td>1.68</td>\n",
              "      <td>1</td>\n",
              "      <td>0</td>\n",
              "    </tr>\n",
              "  </tbody>\n",
              "</table>\n",
              "</div>"
            ],
            "text/plain": [
              "             id  ... availability_365\n",
              "74       211602  ...              346\n",
              "1277    4180573  ...              365\n",
              "10350  25783067  ...                0\n",
              "\n",
              "[3 rows x 15 columns]"
            ]
          },
          "metadata": {
            "tags": []
          },
          "execution_count": 26
        }
      ]
    },
    {
      "cell_type": "code",
      "metadata": {
        "id": "NQ6tPuSNp3BQ",
        "outputId": "85bd002e-8f04-44d4-899d-10d634e969f0",
        "colab": {
          "base_uri": "https://localhost:8080/",
          "height": 473
        }
      },
      "source": [
        "# Plot properties by lat and long\n",
        "df_clean.plot(kind=\"scatter\", x='longitude', y='latitude', alpha=0.4, c=df_clean['price'], s=8,\n",
        "        cmap=plt.get_cmap('jet'), figsize=(12,8));"
      ],
      "execution_count": null,
      "outputs": [
        {
          "output_type": "display_data",
          "data": {
            "image/png": "[encoded data removed]",
            "text/plain": [
              "<Figure size 864x576 with 2 Axes>"
            ]
          },
          "metadata": {
            "tags": [],
            "needs_background": "light"
          }
        }
      ]
    },
    {
      "cell_type": "markdown",
      "metadata": {
        "id": "gpqY_gLXq8sz"
      },
      "source": [
        "As we can see in the Montreal map below, the accommodations are concentrated in the Central region towards the North / East of the city."
      ]
    },
    {
      "cell_type": "markdown",
      "metadata": {
        "id": "7bgGMGGNnA99"
      },
      "source": [
        "![alt text](https://2.bp.blogspot.com/-LNoX2pTDS50/UJuKaUCr-HI/AAAAAAAAnBo/-MLEI7uUt-g/s1600/Mapa_regiao_Montreal_Canada.jpg)\n",
        "*Fonte da Imagem:* https://mapasblog.blogspot.com/2012/11/mapas-de-montreal-canada.html"
      ]
    },
    {
      "cell_type": "markdown",
      "metadata": {
        "id": "vTneAMRUYvr1"
      },
      "source": [
        "### **Q8. What is the average minimum rental night (minimum_nights)??**\n",
        "Considering the data with the variable outliers, the average of `minimum_nights` is 11.6 daily. However, after disregarding outliers, there is a significant drop in this minimum to 4.6 daily."
      ]
    },
    {
      "cell_type": "code",
      "metadata": {
        "id": "_VzNhrEgY82N",
        "outputId": "bf4838f5-542b-4eda-c21a-d987e890cdca",
        "colab": {
          "base_uri": "https://localhost:8080/",
          "height": 34
        }
      },
      "source": [
        "# See average for `minimum_nights` variable (With outliers)\n",
        "print(df['minimum_nights'].mean())"
      ],
      "execution_count": null,
      "outputs": [
        {
          "output_type": "stream",
          "text": [
            "11.671196362305963\n"
          ],
          "name": "stdout"
        }
      ]
    },
    {
      "cell_type": "code",
      "metadata": {
        "id": "15MUicrzs4B4",
        "outputId": "2059927d-bfa0-4f24-bea4-6a3362b85437",
        "colab": {
          "base_uri": "https://localhost:8080/",
          "height": 34
        }
      },
      "source": [
        "# See average for `minimum_nights` variable (Without outliers)\n",
        "print(df_clean['minimum_nights'].mean())"
      ],
      "execution_count": null,
      "outputs": [
        {
          "output_type": "stream",
          "text": [
            "4.631597528684908\n"
          ],
          "name": "stdout"
        }
      ]
    },
    {
      "cell_type": "markdown",
      "metadata": {
        "id": "GkvAg623RjoR"
      },
      "source": [
        "## Conclusions\n"
      ]
    },
    {
      "cell_type": "markdown",
      "metadata": {
        "id": "rbZ3Hsy9Ypw8"
      },
      "source": [
        "We realize a superficial exploratory analysis with the Airbnb database, however it is possible to observe the existence of outliers in some of the variables that impact analysis of the dataset. Therefore, each must be analyzed in detail so that the final analysis on the set is not compromised. In the example above, I used the variables `price` and `minimum_nights` to illustrate the importance of exploration for knowledge of the data.\n",
        "\n",
        "Additionally, it was observed that in some locations there are few properties available, which can distort the statistical information of some attributes such as 'price' in the Baie-d'Urfé Neighbourhood, pointed out as the most expensive neighbourhood but with only 3 accommodations being one in 423 when the other 2 accommodations charge 71 and 159.\n",
        "\n",
        "Another interesting analysis is the plotting on the price distribution map with a visualization of the city map to observe the geographical distribution of the accommodations.\n",
        "\n",
        "Finally, remember that this dataset is a short version, ideal only for an initial approach. It is recommended that the complete data set with 106 available attributes be used in a further exploratory analysis."
      ]
    }
  ]
}
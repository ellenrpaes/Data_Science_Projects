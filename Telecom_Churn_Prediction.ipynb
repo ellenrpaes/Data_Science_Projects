{
  "nbformat": 4,
  "nbformat_minor": 0,
  "metadata": {
    "colab": {
      "name": "Telecom_Churn_Prediction.ipynb",
      "provenance": [],
      "collapsed_sections": [],
      "include_colab_link": true
    },
    "kernelspec": {
      "name": "python3",
      "display_name": "Python 3"
    }
  },
  "cells": [
    {
      "cell_type": "markdown",
      "metadata": {
        "id": "view-in-github",
        "colab_type": "text"
      },
      "source": [
        "<a href=\"https://colab.research.google.com/github/ellenrpaes/Data_Science_Projects/blob/master/Telecom_Churn_Prediction.ipynb\" target=\"_parent\"><img src=\"https://colab.research.google.com/assets/colab-badge.svg\" alt=\"Open In Colab\"/></a>"
      ]
    },
    {
      "cell_type": "markdown",
      "metadata": {
        "id": "sC2BFMOKN1M7"
      },
      "source": [
        "---\n",
        "<img alt=\"Colaboratory logo\" width=\"100%\" src=\"https://www.sogeti.com/link/d677f3cd362b4884bcbfab952931bbce.aspx\">\n",
        "\n",
        "# **Customer churn prediction in telecom**\n",
        "*by [Ellen Paes](https://www.linkedin.com/in/ellenpaes/)*  \n",
        "\n",
        "---"
      ]
    },
    {
      "cell_type": "markdown",
      "metadata": {
        "id": "IR56trFcPcC1"
      },
      "source": [
        "*Churn rate*, or *churn*, is a term to describe the rate at which customer leave or cancel some product or service. This is one of the most important metrics for a business because it usually costs more to acquire a new customers than to retain existing ones.\n",
        "\n",
        "Another interesting point to business observation refers to the potential of this kind of analysis that can provide an understanding of problems and what must need to be solved to retain customers.\n",
        "\n",
        "Keep in mind: An good exploratory analysis can provide us interesting insights!\n",
        "\n",
        "*   What is the person's profile that cancels our service? (Gender? Married? Kids?)\n",
        "*   What kind of services can indicate more cancellations?\n",
        "*   Could people with different kinds of payment methods be retained easily?\n",
        "*   What kind of service I can suggest retaining my customer?\n",
        "\n",
        "Try to answer business questions before predict models. After that, we can apply some prediction to avoid churn e provide to our company a end-to-end understandig since de exploratory analysis until modeling a machine learning techniques!\n",
        "\n",
        "In this script, we will step through a simple approach to building an effective exploratory analysis, data preparation, train, tune and evaluate some machine learning models. \n"
      ]
    },
    {
      "cell_type": "code",
      "metadata": {
        "id": "Jmh0Wl_0tTik"
      },
      "source": [
        "# install package\n",
        "!pip install scikit-plot -q\n",
        "!pip install imbalanced-learn -q"
      ],
      "execution_count": 1,
      "outputs": []
    },
    {
      "cell_type": "code",
      "metadata": {
        "id": "LncHMa6I6IFq"
      },
      "source": [
        "# importing warnings filter\n",
        "from warnings import simplefilter\n",
        "# ignore all future warnings\n",
        "simplefilter(action='ignore', category=FutureWarning)\n",
        "\n",
        "# importing libraries\n",
        "import pandas as pd\n",
        "import numpy as np\n",
        "import matplotlib.pyplot as plt\n",
        "import seaborn as sns\n",
        "from imblearn.under_sampling import RandomUnderSampler\n",
        "from sklearn.metrics import roc_auc_score, accuracy_score, f1_score, confusion_matrix, classification_report\n",
        "from scikitplot.metrics import plot_confusion_matrix, plot_roc\n",
        "from sklearn.preprocessing import StandardScaler, LabelEncoder\n",
        "from sklearn.pipeline import make_pipeline\n",
        "from sklearn.model_selection import train_test_split\n",
        "from sklearn.model_selection import cross_val_score\n",
        "from sklearn.model_selection import StratifiedKFold\n",
        "from sklearn.model_selection import GridSearchCV\n",
        "from sklearn.svm import SVC\n",
        "from lightgbm import LGBMClassifier\n",
        "from sklearn.linear_model import SGDClassifier\n",
        "from sklearn.tree import DecisionTreeClassifier\n",
        "from sklearn.linear_model import LogisticRegression\n",
        "from xgboost import XGBClassifier\n",
        "from sklearn.ensemble import RandomForestClassifier\n",
        "\n",
        "# random seed\n",
        "np.random.seed(42)"
      ],
      "execution_count": 2,
      "outputs": []
    },
    {
      "cell_type": "markdown",
      "metadata": {
        "id": "yRwU1W30cr1w"
      },
      "source": [
        "# Importing Data\n",
        "\n",
        "The data used in this project were originally made available on the [IBM Developer teaching platform](https://developer.ibm.com/technologies/data-science/patterns/predict-customer-churn-using-watson-studio-and-jupyter-notebooks/#), and deal with a typical problem for a telecommunications company. The full dataset can be found at this [link](https://raw.githubusercontent.com/carlosfab/dsnp2/master/datasets/WA_Fn-UseC_-Telco-Customer-Churn.csv).\n",
        "Although there is no explicit information available, the column names allow an understanding of the problem."
      ]
    },
    {
      "cell_type": "code",
      "metadata": {
        "id": "YxjdgZ7539Em",
        "outputId": "3bec837f-96e6-4387-9a82-c70ae7b9ced5",
        "colab": {
          "base_uri": "https://localhost:8080/",
          "height": 309
        }
      },
      "source": [
        "# importing data\n",
        "DATA_PATH = \"https://raw.githubusercontent.com/carlosfab/dsnp2/master/datasets/WA_Fn-UseC_-Telco-Customer-Churn.csv\"\n",
        "df = pd.read_csv(DATA_PATH)\n",
        "\n",
        "# check first 5 entries\n",
        "df.head()"
      ],
      "execution_count": 3,
      "outputs": [
        {
          "output_type": "execute_result",
          "data": {
            "text/html": [
              "<div>\n",
              "<style scoped>\n",
              "    .dataframe tbody tr th:only-of-type {\n",
              "        vertical-align: middle;\n",
              "    }\n",
              "\n",
              "    .dataframe tbody tr th {\n",
              "        vertical-align: top;\n",
              "    }\n",
              "\n",
              "    .dataframe thead th {\n",
              "        text-align: right;\n",
              "    }\n",
              "</style>\n",
              "<table border=\"1\" class=\"dataframe\">\n",
              "  <thead>\n",
              "    <tr style=\"text-align: right;\">\n",
              "      <th></th>\n",
              "      <th>customerID</th>\n",
              "      <th>gender</th>\n",
              "      <th>SeniorCitizen</th>\n",
              "      <th>Partner</th>\n",
              "      <th>Dependents</th>\n",
              "      <th>tenure</th>\n",
              "      <th>PhoneService</th>\n",
              "      <th>MultipleLines</th>\n",
              "      <th>InternetService</th>\n",
              "      <th>OnlineSecurity</th>\n",
              "      <th>OnlineBackup</th>\n",
              "      <th>DeviceProtection</th>\n",
              "      <th>TechSupport</th>\n",
              "      <th>StreamingTV</th>\n",
              "      <th>StreamingMovies</th>\n",
              "      <th>Contract</th>\n",
              "      <th>PaperlessBilling</th>\n",
              "      <th>PaymentMethod</th>\n",
              "      <th>MonthlyCharges</th>\n",
              "      <th>TotalCharges</th>\n",
              "      <th>Churn</th>\n",
              "    </tr>\n",
              "  </thead>\n",
              "  <tbody>\n",
              "    <tr>\n",
              "      <th>0</th>\n",
              "      <td>7590-VHVEG</td>\n",
              "      <td>Female</td>\n",
              "      <td>0</td>\n",
              "      <td>Yes</td>\n",
              "      <td>No</td>\n",
              "      <td>1</td>\n",
              "      <td>No</td>\n",
              "      <td>No phone service</td>\n",
              "      <td>DSL</td>\n",
              "      <td>No</td>\n",
              "      <td>Yes</td>\n",
              "      <td>No</td>\n",
              "      <td>No</td>\n",
              "      <td>No</td>\n",
              "      <td>No</td>\n",
              "      <td>Month-to-month</td>\n",
              "      <td>Yes</td>\n",
              "      <td>Electronic check</td>\n",
              "      <td>29.85</td>\n",
              "      <td>29.85</td>\n",
              "      <td>No</td>\n",
              "    </tr>\n",
              "    <tr>\n",
              "      <th>1</th>\n",
              "      <td>5575-GNVDE</td>\n",
              "      <td>Male</td>\n",
              "      <td>0</td>\n",
              "      <td>No</td>\n",
              "      <td>No</td>\n",
              "      <td>34</td>\n",
              "      <td>Yes</td>\n",
              "      <td>No</td>\n",
              "      <td>DSL</td>\n",
              "      <td>Yes</td>\n",
              "      <td>No</td>\n",
              "      <td>Yes</td>\n",
              "      <td>No</td>\n",
              "      <td>No</td>\n",
              "      <td>No</td>\n",
              "      <td>One year</td>\n",
              "      <td>No</td>\n",
              "      <td>Mailed check</td>\n",
              "      <td>56.95</td>\n",
              "      <td>1889.5</td>\n",
              "      <td>No</td>\n",
              "    </tr>\n",
              "    <tr>\n",
              "      <th>2</th>\n",
              "      <td>3668-QPYBK</td>\n",
              "      <td>Male</td>\n",
              "      <td>0</td>\n",
              "      <td>No</td>\n",
              "      <td>No</td>\n",
              "      <td>2</td>\n",
              "      <td>Yes</td>\n",
              "      <td>No</td>\n",
              "      <td>DSL</td>\n",
              "      <td>Yes</td>\n",
              "      <td>Yes</td>\n",
              "      <td>No</td>\n",
              "      <td>No</td>\n",
              "      <td>No</td>\n",
              "      <td>No</td>\n",
              "      <td>Month-to-month</td>\n",
              "      <td>Yes</td>\n",
              "      <td>Mailed check</td>\n",
              "      <td>53.85</td>\n",
              "      <td>108.15</td>\n",
              "      <td>Yes</td>\n",
              "    </tr>\n",
              "    <tr>\n",
              "      <th>3</th>\n",
              "      <td>7795-CFOCW</td>\n",
              "      <td>Male</td>\n",
              "      <td>0</td>\n",
              "      <td>No</td>\n",
              "      <td>No</td>\n",
              "      <td>45</td>\n",
              "      <td>No</td>\n",
              "      <td>No phone service</td>\n",
              "      <td>DSL</td>\n",
              "      <td>Yes</td>\n",
              "      <td>No</td>\n",
              "      <td>Yes</td>\n",
              "      <td>Yes</td>\n",
              "      <td>No</td>\n",
              "      <td>No</td>\n",
              "      <td>One year</td>\n",
              "      <td>No</td>\n",
              "      <td>Bank transfer (automatic)</td>\n",
              "      <td>42.30</td>\n",
              "      <td>1840.75</td>\n",
              "      <td>No</td>\n",
              "    </tr>\n",
              "    <tr>\n",
              "      <th>4</th>\n",
              "      <td>9237-HQITU</td>\n",
              "      <td>Female</td>\n",
              "      <td>0</td>\n",
              "      <td>No</td>\n",
              "      <td>No</td>\n",
              "      <td>2</td>\n",
              "      <td>Yes</td>\n",
              "      <td>No</td>\n",
              "      <td>Fiber optic</td>\n",
              "      <td>No</td>\n",
              "      <td>No</td>\n",
              "      <td>No</td>\n",
              "      <td>No</td>\n",
              "      <td>No</td>\n",
              "      <td>No</td>\n",
              "      <td>Month-to-month</td>\n",
              "      <td>Yes</td>\n",
              "      <td>Electronic check</td>\n",
              "      <td>70.70</td>\n",
              "      <td>151.65</td>\n",
              "      <td>Yes</td>\n",
              "    </tr>\n",
              "  </tbody>\n",
              "</table>\n",
              "</div>"
            ],
            "text/plain": [
              "   customerID  gender  SeniorCitizen  ... MonthlyCharges TotalCharges  Churn\n",
              "0  7590-VHVEG  Female              0  ...          29.85        29.85     No\n",
              "1  5575-GNVDE    Male              0  ...          56.95       1889.5     No\n",
              "2  3668-QPYBK    Male              0  ...          53.85       108.15    Yes\n",
              "3  7795-CFOCW    Male              0  ...          42.30      1840.75     No\n",
              "4  9237-HQITU  Female              0  ...          70.70       151.65    Yes\n",
              "\n",
              "[5 rows x 21 columns]"
            ]
          },
          "metadata": {
            "tags": []
          },
          "execution_count": 3
        }
      ]
    },
    {
      "cell_type": "markdown",
      "metadata": {
        "id": "hjal_5bVxwo3"
      },
      "source": [
        "# Data Dictionary\n",
        "\n",
        "The customer churn data for a hypothetical telecommunication company has the following attributes:\n",
        "\n",
        "* customerID - Custumer unique identifier\n",
        "* gender - Customer gender - ['Female' 'Male']\n",
        "* SeniorCitizen - Elderly or retired person, a senior citizen is someone who has at least attained the age of 60 of 65 years\n",
        "* Partner - - ['No' 'Yes']\n",
        "* Dependents - If customer has dependents - ['No' 'Yes']\n",
        "* Tenure - Customer lifespan (in months)\n",
        "* PhoneService - - ['No' 'Yes']\n",
        "* MultipleLines - - ['No' 'No phone service' 'Yes']\n",
        "* InternetService - - ['No' 'No internet service' 'Yes']\n",
        "* OnlineSecurity - - ['No' 'No internet service' 'Yes']\n",
        "* OnlineBackup - - ['No' 'No internet service' 'Yes']\n",
        "* DeviceProtection - - ['No' 'No internet service' 'Yes']\n",
        "* TechSupport - - ['No' 'No internet service' 'Yes']\n",
        "* StreamingTV - - ['No' 'No internet service' 'Yes']\n",
        "* StreamingMovies - - ['No' 'No internet service' 'Yes']\n",
        "* Contract - Type of contract - ['Month-to-month' 'One year' 'Two year']\n",
        "* PaperlessBilling - - ['No' 'Yes']\n",
        "* PaymentMethod - payment method - ['Bank transfer (automatic)', 'Credit card (automatic)', 'Electronic check', 'Mailed check']\n",
        "* MonthlyCharges - Monthly Recurring Charges\n",
        "* TotalCharges - Life time value\n",
        "* Churn - Churn value, the targer vector - ['No' 'Yes']"
      ]
    },
    {
      "cell_type": "markdown",
      "metadata": {
        "id": "oUdkxWACHKsB"
      },
      "source": [
        "# Exploratory Analysis\n",
        "\n",
        "To begin our exploratory analysis, we need to examine the data distribution, outliers and anomalies of our data. This is an important part of any analytical strategy and will help us to understandig our data better."
      ]
    },
    {
      "cell_type": "code",
      "metadata": {
        "id": "dRV6UXtz3nbk",
        "outputId": "6c9b5ee2-9dd1-4409-d5ab-0848875b8532",
        "colab": {
          "base_uri": "https://localhost:8080/",
          "height": 68
        }
      },
      "source": [
        "# know the size of the imported dataset\n",
        "\n",
        "print('Dataset dimensions ')\n",
        "print('Entries:\\t{}'.format(df.shape[0]))\n",
        "print('Attributes:\\t{}'.format(df.shape[1]))\n"
      ],
      "execution_count": 4,
      "outputs": [
        {
          "output_type": "stream",
          "text": [
            "Dataset dimensions \n",
            "Entries:\t7043\n",
            "Attributes:\t21\n"
          ],
          "name": "stdout"
        }
      ]
    },
    {
      "cell_type": "markdown",
      "metadata": {
        "id": "JoHDwbtgrRvg"
      },
      "source": [
        "### Features and data types\n",
        "\n",
        "The feature TotalCharges got read by Pandas as object data type. This have impacts during the exploratory analysis and have to be handled. We will convert datatype to float64 in the coming sections."
      ]
    },
    {
      "cell_type": "code",
      "metadata": {
        "id": "SqnhOOoArQ41",
        "outputId": "c18e6513-d552-4002-d0c1-c262ec635be1",
        "colab": {
          "base_uri": "https://localhost:8080/",
          "height": 510
        }
      },
      "source": [
        "# Checking the data types of all the columns\n",
        "display(df.info())"
      ],
      "execution_count": 5,
      "outputs": [
        {
          "output_type": "stream",
          "text": [
            "<class 'pandas.core.frame.DataFrame'>\n",
            "RangeIndex: 7043 entries, 0 to 7042\n",
            "Data columns (total 21 columns):\n",
            " #   Column            Non-Null Count  Dtype  \n",
            "---  ------            --------------  -----  \n",
            " 0   customerID        7043 non-null   object \n",
            " 1   gender            7043 non-null   object \n",
            " 2   SeniorCitizen     7043 non-null   int64  \n",
            " 3   Partner           7043 non-null   object \n",
            " 4   Dependents        7043 non-null   object \n",
            " 5   tenure            7043 non-null   int64  \n",
            " 6   PhoneService      7043 non-null   object \n",
            " 7   MultipleLines     7043 non-null   object \n",
            " 8   InternetService   7043 non-null   object \n",
            " 9   OnlineSecurity    7043 non-null   object \n",
            " 10  OnlineBackup      7043 non-null   object \n",
            " 11  DeviceProtection  7043 non-null   object \n",
            " 12  TechSupport       7043 non-null   object \n",
            " 13  StreamingTV       7043 non-null   object \n",
            " 14  StreamingMovies   7043 non-null   object \n",
            " 15  Contract          7043 non-null   object \n",
            " 16  PaperlessBilling  7043 non-null   object \n",
            " 17  PaymentMethod     7043 non-null   object \n",
            " 18  MonthlyCharges    7043 non-null   float64\n",
            " 19  TotalCharges      7043 non-null   object \n",
            " 20  Churn             7043 non-null   object \n",
            "dtypes: float64(1), int64(2), object(18)\n",
            "memory usage: 1.1+ MB\n"
          ],
          "name": "stdout"
        },
        {
          "output_type": "display_data",
          "data": {
            "text/plain": [
              "None"
            ]
          },
          "metadata": {
            "tags": []
          }
        }
      ]
    },
    {
      "cell_type": "markdown",
      "metadata": {
        "id": "33Spl2r3rzxJ"
      },
      "source": [
        "## Checking missing values\n",
        "\n",
        "Before checking the missing values, we are going to replace all the blank spaces ocurreces that this dataset might have."
      ]
    },
    {
      "cell_type": "code",
      "metadata": {
        "id": "C0WgNJOSX7fW"
      },
      "source": [
        "df['TotalCharges'] = pd.to_numeric(df['TotalCharges'],errors='coerce')"
      ],
      "execution_count": 6,
      "outputs": []
    },
    {
      "cell_type": "code",
      "metadata": {
        "id": "vKkCuqcCZGIC",
        "outputId": "633d0870-483f-4995-fbbb-ebd58f51081c",
        "colab": {
          "base_uri": "https://localhost:8080/",
          "height": 34
        }
      },
      "source": [
        "# Verify missing data\n",
        "print(f\"Missing data in the column TotalCharges was {df['TotalCharges'].isnull().sum()} values.\")\n"
      ],
      "execution_count": 7,
      "outputs": [
        {
          "output_type": "stream",
          "text": [
            "Missing data in the column TotalCharges was 11 values.\n"
          ],
          "name": "stdout"
        }
      ]
    },
    {
      "cell_type": "code",
      "metadata": {
        "id": "2Wxw-jBiZV9x"
      },
      "source": [
        "# filling missing data with median\n",
        "TotalChargesMedian = df.TotalCharges.median()\n",
        "df[\"TotalCharges\"].fillna(TotalChargesMedian, inplace=True)"
      ],
      "execution_count": 8,
      "outputs": []
    },
    {
      "cell_type": "code",
      "metadata": {
        "id": "89eNoe4GU9HZ",
        "outputId": "ab8c61b5-fa42-4fd9-b980-f4266e7f5aa5",
        "colab": {
          "base_uri": "https://localhost:8080/",
          "height": 34
        }
      },
      "source": [
        "# Verify missing data\n",
        "print(f\"Missing data in the column TotalCharges was {df['TotalCharges'].isnull().sum()} values.\")"
      ],
      "execution_count": 9,
      "outputs": [
        {
          "output_type": "stream",
          "text": [
            "Missing data in the column TotalCharges was 0 values.\n"
          ],
          "name": "stdout"
        }
      ]
    },
    {
      "cell_type": "code",
      "metadata": {
        "id": "sG6iEfTtkBtA",
        "outputId": "43ded7cc-be5c-4a32-88c8-fd259a60de96",
        "colab": {
          "base_uri": "https://localhost:8080/",
          "height": 391
        }
      },
      "source": [
        "# Identify the percentage of missing values ​​of the variables in descending order\n",
        "(df.isnull().sum() / df.shape[0]).sort_values(ascending=False)"
      ],
      "execution_count": 10,
      "outputs": [
        {
          "output_type": "execute_result",
          "data": {
            "text/plain": [
              "Churn               0.0\n",
              "OnlineSecurity      0.0\n",
              "gender              0.0\n",
              "SeniorCitizen       0.0\n",
              "Partner             0.0\n",
              "Dependents          0.0\n",
              "tenure              0.0\n",
              "PhoneService        0.0\n",
              "MultipleLines       0.0\n",
              "InternetService     0.0\n",
              "OnlineBackup        0.0\n",
              "TotalCharges        0.0\n",
              "DeviceProtection    0.0\n",
              "TechSupport         0.0\n",
              "StreamingTV         0.0\n",
              "StreamingMovies     0.0\n",
              "Contract            0.0\n",
              "PaperlessBilling    0.0\n",
              "PaymentMethod       0.0\n",
              "MonthlyCharges      0.0\n",
              "customerID          0.0\n",
              "dtype: float64"
            ]
          },
          "metadata": {
            "tags": []
          },
          "execution_count": 10
        }
      ]
    },
    {
      "cell_type": "code",
      "metadata": {
        "id": "iWOEtPXKkfX5",
        "outputId": "fa8b3b8c-28b5-4312-b599-3f379c946c6b",
        "colab": {
          "base_uri": "https://localhost:8080/",
          "height": 119
        }
      },
      "source": [
        "# Check the column names\n",
        "df.columns"
      ],
      "execution_count": 11,
      "outputs": [
        {
          "output_type": "execute_result",
          "data": {
            "text/plain": [
              "Index(['customerID', 'gender', 'SeniorCitizen', 'Partner', 'Dependents',\n",
              "       'tenure', 'PhoneService', 'MultipleLines', 'InternetService',\n",
              "       'OnlineSecurity', 'OnlineBackup', 'DeviceProtection', 'TechSupport',\n",
              "       'StreamingTV', 'StreamingMovies', 'Contract', 'PaperlessBilling',\n",
              "       'PaymentMethod', 'MonthlyCharges', 'TotalCharges', 'Churn'],\n",
              "      dtype='object')"
            ]
          },
          "metadata": {
            "tags": []
          },
          "execution_count": 11
        }
      ]
    },
    {
      "cell_type": "markdown",
      "metadata": {
        "id": "4_c5Yq40yPuY"
      },
      "source": [
        "By checking feature's unique values we can see that the column customerID have unique identifiers for each customer, which confirms that each row represents a single customer. This feature does not contribute for this analysis, therefore we are going to drop the column."
      ]
    },
    {
      "cell_type": "code",
      "metadata": {
        "id": "nLi8P_2tyM7U",
        "outputId": "5191f5ce-8f4d-4b94-dccb-524cc691eae7",
        "colab": {
          "base_uri": "https://localhost:8080/",
          "height": 425
        }
      },
      "source": [
        "print(\"Unique values (per feature): \\n{}\\n\".format(df.nunique()))"
      ],
      "execution_count": 12,
      "outputs": [
        {
          "output_type": "stream",
          "text": [
            "Unique values (per feature): \n",
            "customerID          7043\n",
            "gender                 2\n",
            "SeniorCitizen          2\n",
            "Partner                2\n",
            "Dependents             2\n",
            "tenure                73\n",
            "PhoneService           2\n",
            "MultipleLines          3\n",
            "InternetService        3\n",
            "OnlineSecurity         3\n",
            "OnlineBackup           3\n",
            "DeviceProtection       3\n",
            "TechSupport            3\n",
            "StreamingTV            3\n",
            "StreamingMovies        3\n",
            "Contract               3\n",
            "PaperlessBilling       2\n",
            "PaymentMethod          4\n",
            "MonthlyCharges      1585\n",
            "TotalCharges        6531\n",
            "Churn                  2\n",
            "dtype: int64\n",
            "\n"
          ],
          "name": "stdout"
        }
      ]
    },
    {
      "cell_type": "markdown",
      "metadata": {
        "id": "EU1mytQfXDy0"
      },
      "source": [
        "The variable 'SeniorCitizen' is binary, so we will convert as object."
      ]
    },
    {
      "cell_type": "code",
      "metadata": {
        "id": "iS2ItickWoSC"
      },
      "source": [
        "df['SeniorCitizen'] = df['SeniorCitizen'].astype(object)"
      ],
      "execution_count": 13,
      "outputs": []
    },
    {
      "cell_type": "markdown",
      "metadata": {
        "id": "nm0Mu2c8n_ZN"
      },
      "source": [
        "With the code below we can see fast some relevant information as:\n",
        "\n",
        "*   **84%** of the clients have/ had less than 60 years old or retired person.\n",
        "*   **70%** of the clientes doesn't have/ didn't had Dependents.\n",
        "*   **90%** of the clientes doesn't have/ didn't had a service classified as PhoneService\n",
        "*   **55%** of the clients have/ had a month-to-month contract.\n",
        "*   **59%** of the clientes have/ had a paperlessbilling.\n"
      ]
    },
    {
      "cell_type": "code",
      "metadata": {
        "id": "N8a7usev7BPB",
        "outputId": "57d4ee84-28ac-47d3-c428-3b880820da19",
        "colab": {
          "base_uri": "https://localhost:8080/",
          "height": 210
        }
      },
      "source": [
        "# statistic summary about categorical variables\n",
        "df.describe(include='O')"
      ],
      "execution_count": 14,
      "outputs": [
        {
          "output_type": "execute_result",
          "data": {
            "text/html": [
              "<div>\n",
              "<style scoped>\n",
              "    .dataframe tbody tr th:only-of-type {\n",
              "        vertical-align: middle;\n",
              "    }\n",
              "\n",
              "    .dataframe tbody tr th {\n",
              "        vertical-align: top;\n",
              "    }\n",
              "\n",
              "    .dataframe thead th {\n",
              "        text-align: right;\n",
              "    }\n",
              "</style>\n",
              "<table border=\"1\" class=\"dataframe\">\n",
              "  <thead>\n",
              "    <tr style=\"text-align: right;\">\n",
              "      <th></th>\n",
              "      <th>customerID</th>\n",
              "      <th>gender</th>\n",
              "      <th>SeniorCitizen</th>\n",
              "      <th>Partner</th>\n",
              "      <th>Dependents</th>\n",
              "      <th>PhoneService</th>\n",
              "      <th>MultipleLines</th>\n",
              "      <th>InternetService</th>\n",
              "      <th>OnlineSecurity</th>\n",
              "      <th>OnlineBackup</th>\n",
              "      <th>DeviceProtection</th>\n",
              "      <th>TechSupport</th>\n",
              "      <th>StreamingTV</th>\n",
              "      <th>StreamingMovies</th>\n",
              "      <th>Contract</th>\n",
              "      <th>PaperlessBilling</th>\n",
              "      <th>PaymentMethod</th>\n",
              "      <th>Churn</th>\n",
              "    </tr>\n",
              "  </thead>\n",
              "  <tbody>\n",
              "    <tr>\n",
              "      <th>count</th>\n",
              "      <td>7043</td>\n",
              "      <td>7043</td>\n",
              "      <td>7043</td>\n",
              "      <td>7043</td>\n",
              "      <td>7043</td>\n",
              "      <td>7043</td>\n",
              "      <td>7043</td>\n",
              "      <td>7043</td>\n",
              "      <td>7043</td>\n",
              "      <td>7043</td>\n",
              "      <td>7043</td>\n",
              "      <td>7043</td>\n",
              "      <td>7043</td>\n",
              "      <td>7043</td>\n",
              "      <td>7043</td>\n",
              "      <td>7043</td>\n",
              "      <td>7043</td>\n",
              "      <td>7043</td>\n",
              "    </tr>\n",
              "    <tr>\n",
              "      <th>unique</th>\n",
              "      <td>7043</td>\n",
              "      <td>2</td>\n",
              "      <td>2</td>\n",
              "      <td>2</td>\n",
              "      <td>2</td>\n",
              "      <td>2</td>\n",
              "      <td>3</td>\n",
              "      <td>3</td>\n",
              "      <td>3</td>\n",
              "      <td>3</td>\n",
              "      <td>3</td>\n",
              "      <td>3</td>\n",
              "      <td>3</td>\n",
              "      <td>3</td>\n",
              "      <td>3</td>\n",
              "      <td>2</td>\n",
              "      <td>4</td>\n",
              "      <td>2</td>\n",
              "    </tr>\n",
              "    <tr>\n",
              "      <th>top</th>\n",
              "      <td>5122-CYFXA</td>\n",
              "      <td>Male</td>\n",
              "      <td>0</td>\n",
              "      <td>No</td>\n",
              "      <td>No</td>\n",
              "      <td>Yes</td>\n",
              "      <td>No</td>\n",
              "      <td>Fiber optic</td>\n",
              "      <td>No</td>\n",
              "      <td>No</td>\n",
              "      <td>No</td>\n",
              "      <td>No</td>\n",
              "      <td>No</td>\n",
              "      <td>No</td>\n",
              "      <td>Month-to-month</td>\n",
              "      <td>Yes</td>\n",
              "      <td>Electronic check</td>\n",
              "      <td>No</td>\n",
              "    </tr>\n",
              "    <tr>\n",
              "      <th>freq</th>\n",
              "      <td>1</td>\n",
              "      <td>3555</td>\n",
              "      <td>5901</td>\n",
              "      <td>3641</td>\n",
              "      <td>4933</td>\n",
              "      <td>6361</td>\n",
              "      <td>3390</td>\n",
              "      <td>3096</td>\n",
              "      <td>3498</td>\n",
              "      <td>3088</td>\n",
              "      <td>3095</td>\n",
              "      <td>3473</td>\n",
              "      <td>2810</td>\n",
              "      <td>2785</td>\n",
              "      <td>3875</td>\n",
              "      <td>4171</td>\n",
              "      <td>2365</td>\n",
              "      <td>5174</td>\n",
              "    </tr>\n",
              "  </tbody>\n",
              "</table>\n",
              "</div>"
            ],
            "text/plain": [
              "        customerID gender  ...     PaymentMethod Churn\n",
              "count         7043   7043  ...              7043  7043\n",
              "unique        7043      2  ...                 4     2\n",
              "top     5122-CYFXA   Male  ...  Electronic check    No\n",
              "freq             1   3555  ...              2365  5174\n",
              "\n",
              "[4 rows x 18 columns]"
            ]
          },
          "metadata": {
            "tags": []
          },
          "execution_count": 14
        }
      ]
    },
    {
      "cell_type": "code",
      "metadata": {
        "id": "Savb8gf_mWSr",
        "outputId": "670432e3-5646-4dd5-ad49-12d5161b32f0",
        "colab": {
          "base_uri": "https://localhost:8080/",
          "height": 297
        }
      },
      "source": [
        "df.describe()"
      ],
      "execution_count": 15,
      "outputs": [
        {
          "output_type": "execute_result",
          "data": {
            "text/html": [
              "<div>\n",
              "<style scoped>\n",
              "    .dataframe tbody tr th:only-of-type {\n",
              "        vertical-align: middle;\n",
              "    }\n",
              "\n",
              "    .dataframe tbody tr th {\n",
              "        vertical-align: top;\n",
              "    }\n",
              "\n",
              "    .dataframe thead th {\n",
              "        text-align: right;\n",
              "    }\n",
              "</style>\n",
              "<table border=\"1\" class=\"dataframe\">\n",
              "  <thead>\n",
              "    <tr style=\"text-align: right;\">\n",
              "      <th></th>\n",
              "      <th>tenure</th>\n",
              "      <th>MonthlyCharges</th>\n",
              "      <th>TotalCharges</th>\n",
              "    </tr>\n",
              "  </thead>\n",
              "  <tbody>\n",
              "    <tr>\n",
              "      <th>count</th>\n",
              "      <td>7043.000000</td>\n",
              "      <td>7043.000000</td>\n",
              "      <td>7043.000000</td>\n",
              "    </tr>\n",
              "    <tr>\n",
              "      <th>mean</th>\n",
              "      <td>32.371149</td>\n",
              "      <td>64.761692</td>\n",
              "      <td>2281.916928</td>\n",
              "    </tr>\n",
              "    <tr>\n",
              "      <th>std</th>\n",
              "      <td>24.559481</td>\n",
              "      <td>30.090047</td>\n",
              "      <td>2265.270398</td>\n",
              "    </tr>\n",
              "    <tr>\n",
              "      <th>min</th>\n",
              "      <td>0.000000</td>\n",
              "      <td>18.250000</td>\n",
              "      <td>18.800000</td>\n",
              "    </tr>\n",
              "    <tr>\n",
              "      <th>25%</th>\n",
              "      <td>9.000000</td>\n",
              "      <td>35.500000</td>\n",
              "      <td>402.225000</td>\n",
              "    </tr>\n",
              "    <tr>\n",
              "      <th>50%</th>\n",
              "      <td>29.000000</td>\n",
              "      <td>70.350000</td>\n",
              "      <td>1397.475000</td>\n",
              "    </tr>\n",
              "    <tr>\n",
              "      <th>75%</th>\n",
              "      <td>55.000000</td>\n",
              "      <td>89.850000</td>\n",
              "      <td>3786.600000</td>\n",
              "    </tr>\n",
              "    <tr>\n",
              "      <th>max</th>\n",
              "      <td>72.000000</td>\n",
              "      <td>118.750000</td>\n",
              "      <td>8684.800000</td>\n",
              "    </tr>\n",
              "  </tbody>\n",
              "</table>\n",
              "</div>"
            ],
            "text/plain": [
              "            tenure  MonthlyCharges  TotalCharges\n",
              "count  7043.000000     7043.000000   7043.000000\n",
              "mean     32.371149       64.761692   2281.916928\n",
              "std      24.559481       30.090047   2265.270398\n",
              "min       0.000000       18.250000     18.800000\n",
              "25%       9.000000       35.500000    402.225000\n",
              "50%      29.000000       70.350000   1397.475000\n",
              "75%      55.000000       89.850000   3786.600000\n",
              "max      72.000000      118.750000   8684.800000"
            ]
          },
          "metadata": {
            "tags": []
          },
          "execution_count": 15
        }
      ]
    },
    {
      "cell_type": "markdown",
      "metadata": {
        "id": "FSZoDiQIHYdU"
      },
      "source": [
        "The Box Plot provides information on the following characteristics of the dataset: location, dispersion, asymmetry, tail length and outliers. Looks below how to interpret it. \n",
        "\n",
        "<img alt=\"Colaboratory logo\" width=\"100%\" src=\"https://mk0codingwithmaxskac.kinstacdn.com/wp-content/uploads/2019/11/box-plot-vertical-horizontal-1.png\">\n"
      ]
    },
    {
      "cell_type": "markdown",
      "metadata": {
        "id": "jSwqhLZwUTCH"
      },
      "source": [
        "**Summary Report about boxplot results:**\n",
        "\n",
        "*   `MonthlyCharges` : Clients with churn pays, in median, **23%** more than other clients.\n",
        "*    `TotalCharges` has outliers in the churn group. The 'TotalCharges' inside this group is less than the other group because **75%** of them cancel the service in until 30 months as we can see in the `Tenure - Customer lifespan (in months)`.\n",
        "\n"
      ]
    },
    {
      "cell_type": "code",
      "metadata": {
        "id": "8TaKSrl_d7uB",
        "outputId": "fec823db-4cc9-42fc-dec5-9d4ba383d74b",
        "colab": {
          "base_uri": "https://localhost:8080/",
          "height": 337
        }
      },
      "source": [
        "fig, ax = plt.subplots(nrows=1, ncols=3, figsize=(23, 6))\n",
        "\n",
        "sns.boxplot(df.Churn, df.MonthlyCharges, showmeans=True, ax=ax[0], palette=\"Blues_d\")\n",
        "ax[0].set_title('MonthlyCharges',fontsize=15, fontweight='bold',pad=20)\n",
        "\n",
        "sns.boxplot(df.Churn, df.TotalCharges, showmeans=True, ax=ax[1],palette=\"Blues_d\")\n",
        "ax[1].set_title('TotalCharges',fontsize=15, fontweight='bold',pad=20)\n",
        "\n",
        "sns.boxplot(df.Churn, df.tenure, showmeans=True, ax=ax[2],palette=\"Blues_d\")\n",
        "ax[2].set_title('Tenure - Customer lifespan (in months)',fontsize=15, fontweight='bold',pad=20)\n",
        "\n",
        "\n",
        "plt.tight_layout()"
      ],
      "execution_count": 16,
      "outputs": [
        {
          "output_type": "display_data",
          "data": {
            "image/png": "[encoded data removed]",
            "text/plain": [
              "<Figure size 1656x432 with 3 Axes>"
            ]
          },
          "metadata": {
            "tags": [],
            "needs_background": "light"
          }
        }
      ]
    },
    {
      "cell_type": "markdown",
      "metadata": {
        "id": "hZ3RekIqtSLR"
      },
      "source": [
        "We can observe that **26.5%** of the clients cancell the services. Lets know more about them! :)"
      ]
    },
    {
      "cell_type": "code",
      "metadata": {
        "id": "v-QoyEjlizpM",
        "outputId": "a57a8044-6f22-4de4-d35f-f1b65864578d",
        "colab": {
          "base_uri": "https://localhost:8080/",
          "height": 399
        }
      },
      "source": [
        "# checando a distribuição da variável alvo\n",
        "print(df.Churn.value_counts())\n",
        "print(\"\\nChurn Represents {:.2f}% Do Dataset.\\n\".format((df[df.Churn == 'Yes'].shape[0] / df.shape[0]) * 100))\n",
        "\n",
        "# plotando gráfico de barras\n",
        "fig, ax = plt.subplots()\n",
        "sns.countplot('Churn', data=df, ax=ax, palette='Paired')\n",
        "ax.set_title('Classes Distribution', fontsize=16, fontweight='bold',pad=24)\n",
        "for p in ax.patches:\n",
        "    ax.annotate(f'\\n{p.get_height()}', (p.get_x()+0.2, p.get_height()), xytext = (0, 12), textcoords = 'offset points', fontsize=12, fontweight='bold')\n",
        "\n",
        "sns.despine(fig)\n",
        "plt.tight_layout()\n",
        "plt.show()"
      ],
      "execution_count": 17,
      "outputs": [
        {
          "output_type": "stream",
          "text": [
            "No     5174\n",
            "Yes    1869\n",
            "Name: Churn, dtype: int64\n",
            "\n",
            "Churn Represents 26.54% Do Dataset.\n",
            "\n"
          ],
          "name": "stdout"
        },
        {
          "output_type": "display_data",
          "data": {
            "image/png": "[encoded data removed]",
            "text/plain": [
              "<Figure size 432x288 with 1 Axes>"
            ]
          },
          "metadata": {
            "tags": [],
            "needs_background": "light"
          }
        }
      ]
    },
    {
      "cell_type": "markdown",
      "metadata": {
        "id": "MY1zXF8_ZcFr"
      },
      "source": [
        "## **Understanding the profile of churn customers**\n",
        "\n",
        "The main goal of this experiment is to identify patterns that can yield to customers churn. Let's focus on the churn portion (**1869 clients**) of the dataset for the exploratory analysis.\n",
        "\n",
        "**1. Summary Report about Personal Attributes:**\n",
        "\n",
        "Let's review which personal charactiristic contribute mostly for the cancellation decision. \n",
        "\n",
        "*Items included: `Gender`, `Dependents`, `Partner`, `SeniorCitizen`*\n",
        "\n",
        "*   **No relevant** insights for gender (49.7% Male and 50.3% Female)\n",
        "*   **82%** of the clients that cancel the service didn't have dependents. Customers without dependents are 4.7 times more likely to churn.\n",
        "*   **74%** of the clients didn't are Senior Citizens. Senior citizens are 2.9 times less likely to churn.\n",
        "*   **64%** of the clients didn't have partners. Clients with partners are almost 1.7 times less likely to churn.\n",
        "\n",
        "\n",
        "\n"
      ]
    },
    {
      "cell_type": "code",
      "metadata": {
        "id": "M_WYe-suZJKT",
        "outputId": "2bc6dbc2-94f5-4be5-f46f-d4db4d2d8cd1",
        "colab": {
          "base_uri": "https://localhost:8080/",
          "height": 264
        }
      },
      "source": [
        "### Personal Attributes\n",
        "\n",
        "f, axes = plt.subplots(1, 4,figsize=(28, 5))\n",
        "f.suptitle('Personal Attributes',fontsize=20,fontweight='bold',y=1.1)\n",
        "\n",
        "ax = sns.countplot(x=\"gender\", hue=\"Churn\", data=df, ax=axes[0], palette='Paired')\n",
        "ax.set_title('Gender', fontsize=16, fontweight='bold',pad=24)\n",
        "ax.set_xlabel('Gender', fontsize=12)\n",
        "ax.set_ylabel('Quantity', fontsize=12)\n",
        "for p in ax.patches:\n",
        "    ax.annotate(f'\\n{p.get_height()}', (p.get_x()+0.2, p.get_height()), ha='center', xytext = (0, 12), textcoords = 'offset points', fontsize=12, fontweight='bold')\n",
        "\n",
        "ax1 = sns.countplot(x=\"Dependents\", hue=\"Churn\", data=df, ax=axes[1], palette='Paired')\n",
        "ax1.set_title('Dependents', fontsize=16, fontweight='bold',pad=24)\n",
        "ax1.set_xlabel('Dependents', fontsize=12)\n",
        "ax1.set_ylabel('Quantity', fontsize=12)\n",
        "for p in ax1.patches:\n",
        "    ax1.annotate(f'\\n{p.get_height()}', (p.get_x()+0.2, p.get_height()), ha='center',xytext = (0, 12), textcoords = 'offset points', fontsize=12, fontweight='bold')\n",
        "\n",
        "ax2 = sns.countplot(x=\"Partner\", hue=\"Churn\", data=df, ax=axes[2], palette='Paired')\n",
        "ax2.set_title('Partner', fontsize=16, fontweight='bold',pad=24)\n",
        "ax2.set_xlabel('Partner', fontsize=12)\n",
        "ax2.set_ylabel('Quantity', fontsize=12)\n",
        "for p in ax2.patches:\n",
        "    ax2.annotate(f'\\n{p.get_height()}', (p.get_x()+0.2, p.get_height()), ha='center',xytext = (0, 12), textcoords = 'offset points', fontsize=12, fontweight='bold')\n",
        "\n",
        "ax3 = sns.countplot(x=\"SeniorCitizen\", hue=\"Churn\", data=df, ax=axes[3], palette='Paired')\n",
        "ax3.set_title('SeniorCitizen', fontsize=16, fontweight='bold',pad=24)\n",
        "ax3.set_xlabel('SeniorCitizen', fontsize=12)\n",
        "ax3.set_ylabel('Quantity', fontsize=12)\n",
        "for p in ax3.patches:\n",
        "    ax3.annotate(f'\\n{p.get_height()}', (p.get_x()+0.2, p.get_height()), ha='center',xytext = (0, 12), textcoords = 'offset points', fontsize=12, fontweight='bold')\n",
        "\n",
        "sns.despine(f)\n",
        "plt.tight_layout()\n",
        "plt.show()"
      ],
      "execution_count": 18,
      "outputs": [
        {
          "output_type": "display_data",
          "data": {
            "image/png": "[encoded data removed]",
            "text/plain": [
              "<Figure size 2016x360 with 4 Axes>"
            ]
          },
          "metadata": {
            "tags": [],
            "needs_background": "light"
          }
        }
      ]
    },
    {
      "cell_type": "markdown",
      "metadata": {
        "id": "rFW-JIbicP1G"
      },
      "source": [
        "**2. Summary Report about Services Attributes:**\n",
        "\n",
        "Let's review which services charactiristic contributes mostly for the cancellation decision. It gives insights regarding which kind of carrier services the customers that are more likely to cancel:\n",
        "\n",
        "*Items included: `PhoneService`, `OnlineBackup`, `MultipleLines`, `InternetService`, `OnlineSecurity`*.\n",
        "\n",
        "*   **91%** of the clients had a PhoneService enabled. \n",
        "*   **66%** of the clients didn't had a OnlineBackup.\n",
        "*   **69%** of the clients had Fiber Optic as internet service.\n",
        "*   **78%** of the clients didn't had a OnlineSecurity."
      ]
    },
    {
      "cell_type": "code",
      "metadata": {
        "id": "sYokie-QkoNr",
        "outputId": "57863c55-a245-4144-ade8-391d6b0b3207",
        "colab": {
          "base_uri": "https://localhost:8080/",
          "height": 284
        }
      },
      "source": [
        "f, axes = plt.subplots(1, 5,figsize=(26, 5))\n",
        "f.suptitle('Services',fontsize=20,fontweight='bold',y=1.1)\n",
        "\n",
        "ax1 = sns.countplot(x=\"PhoneService\", hue=\"Churn\", data=df, ax=axes[0], palette='Paired')\n",
        "ax1.set_title('PhoneService', fontsize=16, fontweight='bold',pad=24)\n",
        "ax1.set_xlabel('PhoneService', fontsize=12)\n",
        "ax1.set_ylabel('Quantity', fontsize=12)\n",
        "for p in ax1.patches:\n",
        "    ax1.annotate(f'\\n{p.get_height()}', (p.get_x()+0.2, p.get_height()), ha='center', xytext = (0, 12), textcoords = 'offset points', fontsize=12, fontweight='bold')\n",
        "\n",
        "ax2 = sns.countplot(x=\"OnlineBackup\", hue=\"Churn\", data=df, ax=axes[1], palette='Paired')\n",
        "ax2.set_title('OnlineBackup', fontsize=16, fontweight='bold',pad=24)\n",
        "ax2.set_xlabel('OnlineBackup', fontsize=12)\n",
        "ax2.set_ylabel('Quantity', fontsize=12)\n",
        "for p in ax2.patches:\n",
        "    ax2.annotate(f'\\n{p.get_height()}', (p.get_x()+0.2, p.get_height()), ha='center',xytext = (0, 12), textcoords = 'offset points', fontsize=12, fontweight='bold')\n",
        "\n",
        "ax3 = sns.countplot(x=\"MultipleLines\", hue=\"Churn\", data=df, ax=axes[2], palette='Paired')\n",
        "ax3.set_title('MultipleLines', fontsize=16, fontweight='bold',pad=24)\n",
        "ax3.set_xlabel('MultipleLines', fontsize=12)\n",
        "ax3.set_ylabel('Quantity', fontsize=12)\n",
        "for p in ax3.patches:\n",
        "    ax3.annotate(f'\\n{p.get_height()}', (p.get_x()+0.2, p.get_height()), ha='center',xytext = (0, 12), textcoords = 'offset points', fontsize=12, fontweight='bold')\n",
        "\n",
        "ax4 = sns.countplot(x=\"InternetService\", hue=\"Churn\", data=df, ax=axes[3], palette='Paired')\n",
        "ax4.set_title('InternetService', fontsize=16, fontweight='bold',pad=24)\n",
        "ax4.set_xlabel('InternetService', fontsize=12)\n",
        "ax4.set_ylabel('Quantity', fontsize=12)\n",
        "for p in ax4.patches:\n",
        "    ax4.annotate(f'\\n{p.get_height()}', (p.get_x()+0.2, p.get_height()), ha='center',xytext = (0, 12), textcoords = 'offset points', fontsize=12, fontweight='bold')\n",
        "\n",
        "ax5 = sns.countplot(x=\"OnlineSecurity\", hue=\"Churn\", data=df, ax=axes[4], palette='Paired')\n",
        "ax5.set_title('OnlineSecurity', fontsize=16, fontweight='bold',pad=24)\n",
        "ax5.set_xlabel('OnlineSecurity', fontsize=12)\n",
        "ax5.set_ylabel('Quantity', fontsize=12)\n",
        "for p in ax5.patches:\n",
        "    ax5.annotate(f'\\n{p.get_height()}', (p.get_x()+0.2, p.get_height()), ha='center', xytext = (0, 12), textcoords = 'offset points', fontsize=12, fontweight='bold')\n",
        "\n",
        "sns.despine(f)\n",
        "plt.tight_layout()\n",
        "plt.show()"
      ],
      "execution_count": 19,
      "outputs": [
        {
          "output_type": "display_data",
          "data": {
            "image/png": "[encoded data removed]",
            "text/plain": [
              "<Figure size 1872x360 with 5 Axes>"
            ]
          },
          "metadata": {
            "tags": [],
            "needs_background": "light"
          }
        }
      ]
    },
    {
      "cell_type": "markdown",
      "metadata": {
        "id": "gdUAEpIy2p0M"
      },
      "source": [
        "**2. Summary Report about Services Attributes:**\n",
        "\n",
        "Continuing the review which services characteristic contributes mostly to the cancellation decision. It gives insights regarding which kind of carrier services the customers that are more likely to cancel:\n",
        "\n",
        "*Items included: `TechSupport`, `StreamingTV`, `StreamingMovies`, `DeviceProtection`*.\n",
        "\n",
        "*   **77%** of the clients didn't had a TechSupport. \n",
        "*   **65%** of the clients didn't had a DeviceProtection.\n",
        "\n",
        "About services attributes, in general, clients that do not have Online Security, Device Protection, Online Backup, and Tech Support services enabled are more likely to leave.\n"
      ]
    },
    {
      "cell_type": "code",
      "metadata": {
        "id": "hPOqoXW3hT1o",
        "outputId": "f758f4c4-3397-482e-9e2a-093cce23973e",
        "colab": {
          "base_uri": "https://localhost:8080/",
          "height": 294
        }
      },
      "source": [
        "f, axes = plt.subplots(nrows=1, ncols=4,figsize=(25, 5))\n",
        "f.suptitle('Services',fontsize=20,fontweight='bold',y=1.1)\n",
        "\n",
        "ax = sns.countplot(x=\"TechSupport\", hue=\"Churn\", data=df, ax=axes[0], palette='Paired')\n",
        "ax.set_title('TechSupport', fontsize=16, fontweight='bold',pad=24)\n",
        "ax.set_xlabel('TechSupport', fontsize=12)\n",
        "ax.set_ylabel('Quantity', fontsize=12)\n",
        "for p in ax.patches:\n",
        "    ax.annotate(f'\\n{p.get_height()}', (p.get_x()+0.2, p.get_height()), ha='center', xytext = (0, 12), textcoords = 'offset points', fontsize=12, fontweight='bold')\n",
        "\n",
        "ax1 = sns.countplot(x=\"StreamingTV\", hue=\"Churn\", data=df, ax=axes[1], palette='Paired')\n",
        "ax1.set_title('StreamingTV', fontsize=16, fontweight='bold',pad=24)\n",
        "ax1.set_xlabel('StreamingTV', fontsize=12)\n",
        "ax1.set_ylabel('Quantity', fontsize=12)\n",
        "for p in ax1.patches:\n",
        "    ax1.annotate(f'\\n{p.get_height()}', (p.get_x()+0.2, p.get_height()), ha='center',xytext = (0, 12), textcoords = 'offset points', fontsize=12, fontweight='bold')\n",
        "\n",
        "ax2 = sns.countplot(x=\"StreamingMovies\", hue=\"Churn\", data=df, ax=axes[2], palette='Paired')\n",
        "ax2.set_title('StreamingMovies', fontsize=16, fontweight='bold',pad=24)\n",
        "ax2.set_xlabel('StreamingMovies', fontsize=12)\n",
        "ax2.set_ylabel('Quantity', fontsize=12)\n",
        "for p in ax2.patches:\n",
        "    ax2.annotate(f'\\n{p.get_height()}', (p.get_x()+0.2, p.get_height()), ha='center',xytext = (0, 12), textcoords = 'offset points', fontsize=12, fontweight='bold')\n",
        "\n",
        "ax3 = sns.countplot(x=\"DeviceProtection\", hue=\"Churn\", data=df, ax=axes[3], palette='Paired')\n",
        "ax3.set_title('DeviceProtection', fontsize=16, fontweight='bold',pad=24)\n",
        "ax3.set_xlabel('DeviceProtection', fontsize=12)\n",
        "ax3.set_ylabel('Quantity', fontsize=12)\n",
        "for p in ax3.patches:\n",
        "    ax3.annotate(f'\\n{p.get_height()}', (p.get_x()+0.2, p.get_height()), ha='center',xytext = (0, 12), textcoords = 'offset points', fontsize=12, fontweight='bold')\n",
        "\n",
        "sns.despine(f)\n",
        "plt.tight_layout()\n",
        "plt.show()"
      ],
      "execution_count": 20,
      "outputs": [
        {
          "output_type": "display_data",
          "data": {
            "image/png": "[encoded data removed]",
            "text/plain": [
              "<Figure size 1800x360 with 4 Axes>"
            ]
          },
          "metadata": {
            "tags": [],
            "needs_background": "light"
          }
        }
      ]
    },
    {
      "cell_type": "markdown",
      "metadata": {
        "id": "0L7lBXhmhvrZ"
      },
      "source": [
        "**3. Summary Report about Contract:**\n",
        "\n",
        "Let's review which contract charactiristic contributes mostly for the cancellation decision.\n",
        "\n",
        "*Items included: `PaperlessBilling`, `PaymentMethod` and `PaperlessBilling`*.\n",
        "\n",
        "*   **75%** of the clients had a Paperless Billing enabled. \n",
        "*   **57%** of the clients had payment method as Eletronic Check.\n",
        "*   **88%** of the clients had a month-to-month contract type.\n",
        "   "
      ]
    },
    {
      "cell_type": "code",
      "metadata": {
        "id": "XW-PQ_7CmUpO",
        "outputId": "48b8ecfb-3f42-48cc-b35d-621779e9083b",
        "colab": {
          "base_uri": "https://localhost:8080/",
          "height": 306
        }
      },
      "source": [
        "f, axes = plt.subplots(1, 3,figsize=(24, 5))\n",
        "f.suptitle('Contract Aspects',fontsize=20,fontweight='bold',y=1.1)\n",
        "\n",
        "ax1 = sns.countplot(x=\"PaperlessBilling\", hue=\"Churn\", data=df, ax=axes[0], palette='Paired')\n",
        "ax1.set_title('PaperlessBilling', fontsize=16, fontweight='bold',pad=24)\n",
        "ax1.set_xlabel('PaperlessBilling', fontsize=12)\n",
        "ax1.set_ylabel('Quantity', fontsize=12)\n",
        "for p in ax1.patches:\n",
        "    ax1.annotate(f'\\n{p.get_height()}', (p.get_x()+0.2, p.get_height()), ha='center', xytext = (0, 12), textcoords = 'offset points', fontsize=12, fontweight='bold')\n",
        "\n",
        "ax2 = sns.countplot(x=\"PaymentMethod\", hue=\"Churn\", data=df, ax=axes[1], palette='Paired')\n",
        "ax2.set_title('PaymentMethod', fontsize=16, fontweight='bold',pad=24)\n",
        "ax2.set_xlabel('PaymentMethod', fontsize=12)\n",
        "ax2.set_ylabel('Quantity', fontsize=12)\n",
        "for p in ax2.patches:\n",
        "    ax2.annotate(f'\\n{p.get_height()}', (p.get_x()+0.2, p.get_height()), ha='center',xytext = (0, 12), textcoords = 'offset points', fontsize=12, fontweight='bold')\n",
        "\n",
        "ax3 = sns.countplot(x=\"Contract\", hue=\"Churn\", data=df, ax=axes[2], palette='Paired')\n",
        "ax3.set_title('Contract', fontsize=16, fontweight='bold',pad=24)\n",
        "ax3.set_xlabel('Contract', fontsize=12)\n",
        "ax3.set_ylabel('Quantity', fontsize=12)\n",
        "for p in ax3.patches:\n",
        "    ax3.annotate(f'\\n{p.get_height()}', (p.get_x()+0.2, p.get_height()), ha='center',xytext = (0, 12), textcoords = 'offset points', fontsize=12, fontweight='bold')\n",
        "\n",
        "sns.despine(f)\n",
        "plt.tight_layout()\n",
        "plt.show()"
      ],
      "execution_count": 21,
      "outputs": [
        {
          "output_type": "display_data",
          "data": {
            "image/png": "[encoded data removed]",
            "text/plain": [
              "<Figure size 1728x360 with 3 Axes>"
            ]
          },
          "metadata": {
            "tags": [],
            "needs_background": "light"
          }
        }
      ]
    },
    {
      "cell_type": "markdown",
      "metadata": {
        "id": "qzrIabYWc8Zj"
      },
      "source": [
        "**4. Summary Report about customer lifespan:**\n",
        "\n",
        "The column tenure represents the amount of time that a customer maintains inside the business, meaning that a high tenure represents high customer fidelity. "
      ]
    },
    {
      "cell_type": "code",
      "metadata": {
        "id": "ZzNR6R15c95a",
        "outputId": "3f4097d7-04fc-4159-b4b6-2aa078518c07",
        "colab": {
          "base_uri": "https://localhost:8080/",
          "height": 252
        }
      },
      "source": [
        "# plotting countplot for tenure\n",
        "f,ax = plt.subplots(figsize=(26,5))\n",
        "ax = sns.countplot(df['tenure'], ax=ax, palette='RdBu')\n",
        "ax.set_title('Customer lifespan (in months)', fontsize=16, fontweight='bold',pad=24)\n",
        "ax.set_xlabel('in months', fontsize=12)\n",
        "ax.set_ylabel('Quantity', fontsize=12)\n",
        "for p in ax.patches:\n",
        "    ax.annotate(f'\\n{p.get_height()}', (p.get_x()+0.2, p.get_height()), ha='center',xytext = (0, 12), textcoords = 'offset points', fontsize=12, fontweight='bold')\n",
        "\n",
        "sns.despine(f)\n",
        "plt.tight_layout()\n",
        "plt.show()"
      ],
      "execution_count": 22,
      "outputs": [
        {
          "output_type": "display_data",
          "data": {
            "image/png": "[encoded data removed]",
            "text/plain": [
              "<Figure size 1872x360 with 1 Axes>"
            ]
          },
          "metadata": {
            "tags": [],
            "needs_background": "light"
          }
        }
      ]
    },
    {
      "cell_type": "markdown",
      "metadata": {
        "id": "LKVnZ1TTt15z"
      },
      "source": [
        "**How long is the customer lifespan until subscription cancellation?**\n",
        "\n",
        "*    **20%** of the clients leave on the first month.\n",
        "*    **32%** of the clients leave on until the third month.\n",
        "*    **42%** - almost a half! - of the clients leave on until the sixth month."
      ]
    },
    {
      "cell_type": "code",
      "metadata": {
        "id": "id9K0mqqsZ1V",
        "outputId": "d271efa2-8367-438f-f899-1b09344acc94",
        "colab": {
          "base_uri": "https://localhost:8080/",
          "height": 369
        }
      },
      "source": [
        "# creating variables to calculate the percentage\n",
        "df_top_churn = pd.DataFrame(df[df['Churn'] == 'Yes']['tenure'].value_counts().sort_values(ascending=False))\n",
        "total_churn = df[df['Churn'] == 'Yes'].shape[0]\n",
        "\n",
        "f, ax = plt.subplots(figsize=(10,5))\n",
        "ax = sns.barplot( x = df_top_churn[:10].index, y = df_top_churn[:10].tenure, ax=ax, palette='RdBu', order=df_top_churn[:10].index)\n",
        "ax.set_title('Customer lifespan (in months)', fontsize=16, fontweight='bold',pad=24)\n",
        "ax.set_xlabel('in months', fontsize=12)\n",
        "ax.set_ylabel('Quantity/Percent', fontsize=12)\n",
        "\n",
        "for p in ax.patches:\n",
        "    percentage = '{:.1f}%'.format(100 * p.get_height() / total_churn)\n",
        "    x = p.get_x() + p.get_width() / 2\n",
        "    y = p.get_y() + p.get_height()\n",
        "    ax.annotate(percentage, (x, y), ha='center',xytext = (0, 12), textcoords = 'offset points', fontsize=12, fontweight='bold')\n",
        "\n",
        "sns.despine(f)\n",
        "plt.tight_layout()\n",
        "plt.show()"
      ],
      "execution_count": 23,
      "outputs": [
        {
          "output_type": "display_data",
          "data": {
            "image/png": "[encoded data removed]",
            "text/plain": [
              "<Figure size 720x360 with 1 Axes>"
            ]
          },
          "metadata": {
            "tags": [],
            "needs_background": "light"
          }
        }
      ]
    },
    {
      "cell_type": "markdown",
      "metadata": {
        "id": "yEdGVUx6WgHg"
      },
      "source": [
        "# **Data Preparation**"
      ]
    },
    {
      "cell_type": "markdown",
      "metadata": {
        "id": "W61tW36N4uVK"
      },
      "source": [
        "## **Feature Engineering**\n",
        "\n",
        "Feature engineering is an important step to treat, reformatted, enrich and calibrated data to be useful to machine learning models because ML algorithms can only read numerical values. An important step of data preparation is to apply the encoding of categorical features into numerical values. In our data, we had some categorical features with binary classes, such as `Gender`,`SeniorCitizen`,`Partner`,`Dependents`,`PhoneServices` and `PaperlessBilling`. For them we can use `le = LabelEncoder()` from Scikit-Learn to normalize labels.\n",
        "\n",
        "For categorical classes with more than two classes, `MultipleLines`, `InternetService` , `OnlineSecurity` , `OnlineBackup` , `DeviceProtection` , `TechSupport`, `StreamingTV` , `StreamingMovies` , `Contract` and `PaymentMethod` we can use `pd.get_dummies()` from Pandas to convert these classes into a dummy/indicator variable."
      ]
    },
    {
      "cell_type": "code",
      "metadata": {
        "id": "8-qTHkV3qck9",
        "outputId": "915d56ad-76eb-49d2-aa6d-ad683441ae9f",
        "colab": {
          "base_uri": "https://localhost:8080/",
          "height": 258
        }
      },
      "source": [
        "# criando cópia do dataset\n",
        "df_clean = df.copy()\n",
        "\n",
        "# remover coluna costumerID\n",
        "df_clean = df_clean.drop(['customerID'], axis=1)\n",
        "\n",
        "# pré processar as variáveis\n",
        "binary_var = df_clean.nunique()[df_clean.nunique() == 2].keys().tolist()\n",
        "num_var = [col for col in df_clean.select_dtypes(['int', 'float']).columns.tolist() if col not in binary_var]\n",
        "cat_var = [col for col in df_clean.columns.tolist() if col not in binary_var + num_var]\n",
        "\n",
        "# criar uma cópia do dataframe\n",
        "df_proc = df_clean.copy()\n",
        "\n",
        "# Label Encoding para as variáveis Binárias\n",
        "le = LabelEncoder()\n",
        "for i in binary_var:\n",
        "    df_proc[i] = le.fit_transform(df_proc[i])\n",
        "\n",
        "# Encoding para colunas categóricas com múltiplas classes\n",
        "df_proc = pd.get_dummies(df_proc, columns=cat_var)\n",
        "\n",
        "# ver as 5 primeiras entradas do novo dataframe\n",
        "df_proc.head()"
      ],
      "execution_count": 24,
      "outputs": [
        {
          "output_type": "execute_result",
          "data": {
            "text/html": [
              "<div>\n",
              "<style scoped>\n",
              "    .dataframe tbody tr th:only-of-type {\n",
              "        vertical-align: middle;\n",
              "    }\n",
              "\n",
              "    .dataframe tbody tr th {\n",
              "        vertical-align: top;\n",
              "    }\n",
              "\n",
              "    .dataframe thead th {\n",
              "        text-align: right;\n",
              "    }\n",
              "</style>\n",
              "<table border=\"1\" class=\"dataframe\">\n",
              "  <thead>\n",
              "    <tr style=\"text-align: right;\">\n",
              "      <th></th>\n",
              "      <th>gender</th>\n",
              "      <th>SeniorCitizen</th>\n",
              "      <th>Partner</th>\n",
              "      <th>Dependents</th>\n",
              "      <th>tenure</th>\n",
              "      <th>PhoneService</th>\n",
              "      <th>PaperlessBilling</th>\n",
              "      <th>MonthlyCharges</th>\n",
              "      <th>TotalCharges</th>\n",
              "      <th>Churn</th>\n",
              "      <th>MultipleLines_No</th>\n",
              "      <th>MultipleLines_No phone service</th>\n",
              "      <th>MultipleLines_Yes</th>\n",
              "      <th>InternetService_DSL</th>\n",
              "      <th>InternetService_Fiber optic</th>\n",
              "      <th>InternetService_No</th>\n",
              "      <th>OnlineSecurity_No</th>\n",
              "      <th>OnlineSecurity_No internet service</th>\n",
              "      <th>OnlineSecurity_Yes</th>\n",
              "      <th>OnlineBackup_No</th>\n",
              "      <th>OnlineBackup_No internet service</th>\n",
              "      <th>OnlineBackup_Yes</th>\n",
              "      <th>DeviceProtection_No</th>\n",
              "      <th>DeviceProtection_No internet service</th>\n",
              "      <th>DeviceProtection_Yes</th>\n",
              "      <th>TechSupport_No</th>\n",
              "      <th>TechSupport_No internet service</th>\n",
              "      <th>TechSupport_Yes</th>\n",
              "      <th>StreamingTV_No</th>\n",
              "      <th>StreamingTV_No internet service</th>\n",
              "      <th>StreamingTV_Yes</th>\n",
              "      <th>StreamingMovies_No</th>\n",
              "      <th>StreamingMovies_No internet service</th>\n",
              "      <th>StreamingMovies_Yes</th>\n",
              "      <th>Contract_Month-to-month</th>\n",
              "      <th>Contract_One year</th>\n",
              "      <th>Contract_Two year</th>\n",
              "      <th>PaymentMethod_Bank transfer (automatic)</th>\n",
              "      <th>PaymentMethod_Credit card (automatic)</th>\n",
              "      <th>PaymentMethod_Electronic check</th>\n",
              "      <th>PaymentMethod_Mailed check</th>\n",
              "    </tr>\n",
              "  </thead>\n",
              "  <tbody>\n",
              "    <tr>\n",
              "      <th>0</th>\n",
              "      <td>0</td>\n",
              "      <td>0</td>\n",
              "      <td>1</td>\n",
              "      <td>0</td>\n",
              "      <td>1</td>\n",
              "      <td>0</td>\n",
              "      <td>1</td>\n",
              "      <td>29.85</td>\n",
              "      <td>29.85</td>\n",
              "      <td>0</td>\n",
              "      <td>0</td>\n",
              "      <td>1</td>\n",
              "      <td>0</td>\n",
              "      <td>1</td>\n",
              "      <td>0</td>\n",
              "      <td>0</td>\n",
              "      <td>1</td>\n",
              "      <td>0</td>\n",
              "      <td>0</td>\n",
              "      <td>0</td>\n",
              "      <td>0</td>\n",
              "      <td>1</td>\n",
              "      <td>1</td>\n",
              "      <td>0</td>\n",
              "      <td>0</td>\n",
              "      <td>1</td>\n",
              "      <td>0</td>\n",
              "      <td>0</td>\n",
              "      <td>1</td>\n",
              "      <td>0</td>\n",
              "      <td>0</td>\n",
              "      <td>1</td>\n",
              "      <td>0</td>\n",
              "      <td>0</td>\n",
              "      <td>1</td>\n",
              "      <td>0</td>\n",
              "      <td>0</td>\n",
              "      <td>0</td>\n",
              "      <td>0</td>\n",
              "      <td>1</td>\n",
              "      <td>0</td>\n",
              "    </tr>\n",
              "    <tr>\n",
              "      <th>1</th>\n",
              "      <td>1</td>\n",
              "      <td>0</td>\n",
              "      <td>0</td>\n",
              "      <td>0</td>\n",
              "      <td>34</td>\n",
              "      <td>1</td>\n",
              "      <td>0</td>\n",
              "      <td>56.95</td>\n",
              "      <td>1889.50</td>\n",
              "      <td>0</td>\n",
              "      <td>1</td>\n",
              "      <td>0</td>\n",
              "      <td>0</td>\n",
              "      <td>1</td>\n",
              "      <td>0</td>\n",
              "      <td>0</td>\n",
              "      <td>0</td>\n",
              "      <td>0</td>\n",
              "      <td>1</td>\n",
              "      <td>1</td>\n",
              "      <td>0</td>\n",
              "      <td>0</td>\n",
              "      <td>0</td>\n",
              "      <td>0</td>\n",
              "      <td>1</td>\n",
              "      <td>1</td>\n",
              "      <td>0</td>\n",
              "      <td>0</td>\n",
              "      <td>1</td>\n",
              "      <td>0</td>\n",
              "      <td>0</td>\n",
              "      <td>1</td>\n",
              "      <td>0</td>\n",
              "      <td>0</td>\n",
              "      <td>0</td>\n",
              "      <td>1</td>\n",
              "      <td>0</td>\n",
              "      <td>0</td>\n",
              "      <td>0</td>\n",
              "      <td>0</td>\n",
              "      <td>1</td>\n",
              "    </tr>\n",
              "    <tr>\n",
              "      <th>2</th>\n",
              "      <td>1</td>\n",
              "      <td>0</td>\n",
              "      <td>0</td>\n",
              "      <td>0</td>\n",
              "      <td>2</td>\n",
              "      <td>1</td>\n",
              "      <td>1</td>\n",
              "      <td>53.85</td>\n",
              "      <td>108.15</td>\n",
              "      <td>1</td>\n",
              "      <td>1</td>\n",
              "      <td>0</td>\n",
              "      <td>0</td>\n",
              "      <td>1</td>\n",
              "      <td>0</td>\n",
              "      <td>0</td>\n",
              "      <td>0</td>\n",
              "      <td>0</td>\n",
              "      <td>1</td>\n",
              "      <td>0</td>\n",
              "      <td>0</td>\n",
              "      <td>1</td>\n",
              "      <td>1</td>\n",
              "      <td>0</td>\n",
              "      <td>0</td>\n",
              "      <td>1</td>\n",
              "      <td>0</td>\n",
              "      <td>0</td>\n",
              "      <td>1</td>\n",
              "      <td>0</td>\n",
              "      <td>0</td>\n",
              "      <td>1</td>\n",
              "      <td>0</td>\n",
              "      <td>0</td>\n",
              "      <td>1</td>\n",
              "      <td>0</td>\n",
              "      <td>0</td>\n",
              "      <td>0</td>\n",
              "      <td>0</td>\n",
              "      <td>0</td>\n",
              "      <td>1</td>\n",
              "    </tr>\n",
              "    <tr>\n",
              "      <th>3</th>\n",
              "      <td>1</td>\n",
              "      <td>0</td>\n",
              "      <td>0</td>\n",
              "      <td>0</td>\n",
              "      <td>45</td>\n",
              "      <td>0</td>\n",
              "      <td>0</td>\n",
              "      <td>42.30</td>\n",
              "      <td>1840.75</td>\n",
              "      <td>0</td>\n",
              "      <td>0</td>\n",
              "      <td>1</td>\n",
              "      <td>0</td>\n",
              "      <td>1</td>\n",
              "      <td>0</td>\n",
              "      <td>0</td>\n",
              "      <td>0</td>\n",
              "      <td>0</td>\n",
              "      <td>1</td>\n",
              "      <td>1</td>\n",
              "      <td>0</td>\n",
              "      <td>0</td>\n",
              "      <td>0</td>\n",
              "      <td>0</td>\n",
              "      <td>1</td>\n",
              "      <td>0</td>\n",
              "      <td>0</td>\n",
              "      <td>1</td>\n",
              "      <td>1</td>\n",
              "      <td>0</td>\n",
              "      <td>0</td>\n",
              "      <td>1</td>\n",
              "      <td>0</td>\n",
              "      <td>0</td>\n",
              "      <td>0</td>\n",
              "      <td>1</td>\n",
              "      <td>0</td>\n",
              "      <td>1</td>\n",
              "      <td>0</td>\n",
              "      <td>0</td>\n",
              "      <td>0</td>\n",
              "    </tr>\n",
              "    <tr>\n",
              "      <th>4</th>\n",
              "      <td>0</td>\n",
              "      <td>0</td>\n",
              "      <td>0</td>\n",
              "      <td>0</td>\n",
              "      <td>2</td>\n",
              "      <td>1</td>\n",
              "      <td>1</td>\n",
              "      <td>70.70</td>\n",
              "      <td>151.65</td>\n",
              "      <td>1</td>\n",
              "      <td>1</td>\n",
              "      <td>0</td>\n",
              "      <td>0</td>\n",
              "      <td>0</td>\n",
              "      <td>1</td>\n",
              "      <td>0</td>\n",
              "      <td>1</td>\n",
              "      <td>0</td>\n",
              "      <td>0</td>\n",
              "      <td>1</td>\n",
              "      <td>0</td>\n",
              "      <td>0</td>\n",
              "      <td>1</td>\n",
              "      <td>0</td>\n",
              "      <td>0</td>\n",
              "      <td>1</td>\n",
              "      <td>0</td>\n",
              "      <td>0</td>\n",
              "      <td>1</td>\n",
              "      <td>0</td>\n",
              "      <td>0</td>\n",
              "      <td>1</td>\n",
              "      <td>0</td>\n",
              "      <td>0</td>\n",
              "      <td>1</td>\n",
              "      <td>0</td>\n",
              "      <td>0</td>\n",
              "      <td>0</td>\n",
              "      <td>0</td>\n",
              "      <td>1</td>\n",
              "      <td>0</td>\n",
              "    </tr>\n",
              "  </tbody>\n",
              "</table>\n",
              "</div>"
            ],
            "text/plain": [
              "   gender  ...  PaymentMethod_Mailed check\n",
              "0       0  ...                           0\n",
              "1       1  ...                           1\n",
              "2       1  ...                           1\n",
              "3       1  ...                           0\n",
              "4       0  ...                           0\n",
              "\n",
              "[5 rows x 41 columns]"
            ]
          },
          "metadata": {
            "tags": []
          },
          "execution_count": 24
        }
      ]
    },
    {
      "cell_type": "markdown",
      "metadata": {
        "id": "-hvD0FZ6cUeN"
      },
      "source": [
        "After processing the steps before, we can begin our machine learning model. \n",
        "To compare performance and model improvement, we create a simple baseline. In this step, no hyperparameters adjust or data balance will be done, for example.\n"
      ]
    },
    {
      "cell_type": "markdown",
      "metadata": {
        "id": "6sOIu0xES8Yg"
      },
      "source": [
        "## **Split train and test data**\n",
        "\n",
        "Before proceeding with balance data, is an important step now to split data into two parts: **training dataset** and **test dataset**, without this we don't have parameters to check if the balance was correct. The **test dataset** will be useful only in the last step of the project to give us a better evaluation of the results. This test dataset is the final dataset that we use to measure model performance based on some metrics. To guarantee that our training and test dataset have the same amount of classes, proportionally, we use `stratify=y`.\n",
        "\n",
        "* **Unbalanced dataset**"
      ]
    },
    {
      "cell_type": "code",
      "metadata": {
        "id": "fAhuRO14fKVj"
      },
      "source": [
        "# split x and y variables\n",
        "X = df_proc.drop(['Churn'], axis=1)\n",
        "y = df_proc['Churn']\n",
        "\n",
        "# split dataset between train and test\n",
        "X_train, X_test, y_train, y_test = train_test_split(X, y, stratify=y, shuffle=True)"
      ],
      "execution_count": 25,
      "outputs": []
    },
    {
      "cell_type": "markdown",
      "metadata": {
        "id": "0b6GKod_segF"
      },
      "source": [
        "We will use cross-validation to estimate the baseline error and the initial model. To help us, we will create a `var_model` function and define `Recall` as our evaluation metric. For the churn problem, it is the ideal metric to be used. The recall answers question as to what proportion of actual positives was identified correctly? This metric can measure the percentage of churns that were correctly classified related to the total churns, which is what we are looking for to analyze the performance of ML classifiers."
      ]
    },
    {
      "cell_type": "code",
      "metadata": {
        "id": "UxI4h8xbsgzk"
      },
      "source": [
        "def val_model(X, y, clf, quite=False):\n",
        "    \"\"\"\n",
        "    Make cross-validation for a given model\n",
        "\n",
        "    # Arguments\n",
        "      X: DataFrame, feature matrix\n",
        "      y: Series, target vector\n",
        "      clf: classifier from scikit-learn\n",
        "      quite: bool, indicate if funcion should print the results\n",
        "\n",
        "    # Returns\n",
        "      float, validation scores\n",
        "    \"\"\"\n",
        "    \n",
        "    X = np.array(X)\n",
        "    y = np.array(y)\n",
        "\n",
        "    pipeline = make_pipeline(StandardScaler(), clf)\n",
        "    scores = cross_val_score(pipeline, X, y, scoring='recall')\n",
        "\n",
        "    if quite == False:\n",
        "        print(\"Recall: {:.2f} (+/- {:.2f})\".format(scores.mean(), scores.std()))\n",
        "    \n",
        "    return scores.mean()"
      ],
      "execution_count": 26,
      "outputs": []
    },
    {
      "cell_type": "markdown",
      "metadata": {
        "id": "J-5L_KiGs2Sb"
      },
      "source": [
        "For the initial baseline, we will use Random Forest, without any parameter changes. The data used is the training data."
      ]
    },
    {
      "cell_type": "code",
      "metadata": {
        "id": "eonaf9kGs4JV",
        "outputId": "ff5e123d-f4a9-46d6-82e8-99a81403fda3",
        "colab": {
          "base_uri": "https://localhost:8080/",
          "height": 34
        }
      },
      "source": [
        "# Create an inicial baseline\n",
        "rf = RandomForestClassifier()\n",
        "score_baseline = val_model(X_train, y_train, rf)"
      ],
      "execution_count": 27,
      "outputs": [
        {
          "output_type": "stream",
          "text": [
            "Recall: 0.49 (+/- 0.03)\n"
          ],
          "name": "stdout"
        }
      ]
    },
    {
      "cell_type": "markdown",
      "metadata": {
        "id": "aoMGn3h8KJFi"
      },
      "source": [
        "**Balancing and Standardizing the data**"
      ]
    },
    {
      "cell_type": "markdown",
      "metadata": {
        "id": "_Xy3y-_Ovwbf"
      },
      "source": [
        "Remember, the balance must happen only with the training data. The test data must remain untouched."
      ]
    },
    {
      "cell_type": "code",
      "metadata": {
        "id": "AMvu4fv2S7x3",
        "outputId": "dd48d7f8-b7b8-4098-d1b3-87653e883897",
        "colab": {
          "base_uri": "https://localhost:8080/",
          "height": 348
        }
      },
      "source": [
        "# Standardizing the data\n",
        "scaler = StandardScaler().fit(X_train)\n",
        "X_train = scaler.transform(X_train)\n",
        "\n",
        "# # under sampling\n",
        "rus = RandomUnderSampler()\n",
        "X_train_rus, y_train_rus = rus.fit_sample(X_train, y_train)\n",
        "\n",
        "# make sure the number of classes are equal distibuted\n",
        "print(pd.Series(y_train_rus).value_counts())\n",
        "\n",
        "# plot new distribution\n",
        "sns.countplot(y_train_rus, palette='Paired')\n",
        "sns.despine()\n",
        "plt.tight_layout()\n",
        "plt.show()"
      ],
      "execution_count": 28,
      "outputs": [
        {
          "output_type": "stream",
          "text": [
            "1    1402\n",
            "0    1402\n",
            "dtype: int64\n"
          ],
          "name": "stdout"
        },
        {
          "output_type": "display_data",
          "data": {
            "image/png": "[encoded data removed]",
            "text/plain": [
              "<Figure size 432x288 with 1 Axes>"
            ]
          },
          "metadata": {
            "tags": [],
            "needs_background": "light"
          }
        }
      ]
    },
    {
      "cell_type": "markdown",
      "metadata": {
        "id": "Yylk-Bc8W0q-"
      },
      "source": [
        "#**Machine Learning Model**"
      ]
    },
    {
      "cell_type": "markdown",
      "metadata": {
        "id": "o7JdQAtbuysD"
      },
      "source": [
        "## **Instanciate Models**\n",
        "\n",
        "Create a baseline using cross-validation with a training dataset. Will be used in this project the algorithms before:\n",
        "\n",
        "* Random Forest\n",
        "* Decision Tree\n",
        "* Stochastic Gradient Descent\n",
        "* SVC\n",
        "* Regressão Logística\n",
        "* LightGBM\n",
        "\n",
        "After the script, we can see an intuitive table with the Recall results for each one. We will define which model is better to achieve the requirements to solve this problem."
      ]
    },
    {
      "cell_type": "markdown",
      "metadata": {
        "id": "EC7CaHi2vE-J"
      },
      "source": [
        "After our data preparation, a deep exploratory analysis we will instaciate models and train with `X_rus` e `y_rus` data. Subsequently, we will make predictions with testing data."
      ]
    },
    {
      "cell_type": "code",
      "metadata": {
        "id": "mZ2DKvaTKzJR",
        "outputId": "2a1d372a-b463-420f-c3f0-4cd779c3f678",
        "colab": {
          "base_uri": "https://localhost:8080/",
          "height": 266
        }
      },
      "source": [
        "# instaciate models\n",
        "rf = RandomForestClassifier()\n",
        "dt = DecisionTreeClassifier()\n",
        "sgdc = SGDClassifier()\n",
        "svc = SVC()\n",
        "lr = LogisticRegression()\n",
        "xgb = XGBClassifier()\n",
        "lgbm = LGBMClassifier()\n",
        "\n",
        "model = []\n",
        "recall = []\n",
        "# Measure Recall \n",
        "for clf in (rf, dt, sgdc, svc, lr, xgb, lgbm):\n",
        "    model.append(clf.__class__.__name__)\n",
        "    recall.append(val_model(X_train_rus, y_train_rus, clf, quite=True))\n",
        "\n",
        "pd.DataFrame(data=recall, index=model, columns=['Recall'])"
      ],
      "execution_count": 29,
      "outputs": [
        {
          "output_type": "execute_result",
          "data": {
            "text/html": [
              "<div>\n",
              "<style scoped>\n",
              "    .dataframe tbody tr th:only-of-type {\n",
              "        vertical-align: middle;\n",
              "    }\n",
              "\n",
              "    .dataframe tbody tr th {\n",
              "        vertical-align: top;\n",
              "    }\n",
              "\n",
              "    .dataframe thead th {\n",
              "        text-align: right;\n",
              "    }\n",
              "</style>\n",
              "<table border=\"1\" class=\"dataframe\">\n",
              "  <thead>\n",
              "    <tr style=\"text-align: right;\">\n",
              "      <th></th>\n",
              "      <th>Recall</th>\n",
              "    </tr>\n",
              "  </thead>\n",
              "  <tbody>\n",
              "    <tr>\n",
              "      <th>RandomForestClassifier</th>\n",
              "      <td>0.761790</td>\n",
              "    </tr>\n",
              "    <tr>\n",
              "      <th>DecisionTreeClassifier</th>\n",
              "      <td>0.691174</td>\n",
              "    </tr>\n",
              "    <tr>\n",
              "      <th>SGDClassifier</th>\n",
              "      <td>0.751769</td>\n",
              "    </tr>\n",
              "    <tr>\n",
              "      <th>SVC</th>\n",
              "      <td>0.783882</td>\n",
              "    </tr>\n",
              "    <tr>\n",
              "      <th>LogisticRegression</th>\n",
              "      <td>0.790305</td>\n",
              "    </tr>\n",
              "    <tr>\n",
              "      <th>XGBClassifier</th>\n",
              "      <td>0.793193</td>\n",
              "    </tr>\n",
              "    <tr>\n",
              "      <th>LGBMClassifier</th>\n",
              "      <td>0.765333</td>\n",
              "    </tr>\n",
              "  </tbody>\n",
              "</table>\n",
              "</div>"
            ],
            "text/plain": [
              "                          Recall\n",
              "RandomForestClassifier  0.761790\n",
              "DecisionTreeClassifier  0.691174\n",
              "SGDClassifier           0.751769\n",
              "SVC                     0.783882\n",
              "LogisticRegression      0.790305\n",
              "XGBClassifier           0.793193\n",
              "LGBMClassifier          0.765333"
            ]
          },
          "metadata": {
            "tags": []
          },
          "execution_count": 29
        }
      ]
    },
    {
      "cell_type": "markdown",
      "metadata": {
        "id": "B9ppk2SRKznw"
      },
      "source": [
        "Because of the characteristics of the problem and the performance during the previous executions, I choose XGBoost, Logistic Regression, and SVM to tunning parameters.\n",
        "\n",
        "In my opinion, **Tuning Models** can further improve the qualities of those models."
      ]
    },
    {
      "cell_type": "markdown",
      "metadata": {
        "id": "rSeUw0o8OXF5"
      },
      "source": [
        ""
      ]
    },
    {
      "cell_type": "markdown",
      "metadata": {
        "id": "Utrvu981xlCU"
      },
      "source": [
        "## **Hyperparameters Optimization**"
      ]
    },
    {
      "cell_type": "markdown",
      "metadata": {
        "id": "X0r7Kpp73YDO"
      },
      "source": [
        "### **XGBoost**\n"
      ]
    },
    {
      "cell_type": "markdown",
      "metadata": {
        "id": "s7bgwP803SYM"
      },
      "source": [
        "XGBoost has numerous parameters. Someone affects the quality of the model more, others less. A good practice is to define a learning rate and a number of estimators, to perform tuning of other parameters, and, in the end, to check other learning rates.\n",
        "\n",
        "Following, we will adjust each parameter step-by-step to help our understanding.\n",
        "\n",
        "As can be seen below it presented a slight improvement after tuned, incresing Recall from **0.79** to **0.89**."
      ]
    },
    {
      "cell_type": "code",
      "metadata": {
        "id": "vAeeURmPmq5X",
        "outputId": "d740ced7-e2e7-46b1-97a0-78d0c01125ef",
        "colab": {
          "base_uri": "https://localhost:8080/",
          "height": 54
        }
      },
      "source": [
        "# get params\n",
        "print(xgb.get_params().keys())"
      ],
      "execution_count": 30,
      "outputs": [
        {
          "output_type": "stream",
          "text": [
            "dict_keys(['base_score', 'booster', 'colsample_bylevel', 'colsample_bynode', 'colsample_bytree', 'gamma', 'learning_rate', 'max_delta_step', 'max_depth', 'min_child_weight', 'missing', 'n_estimators', 'n_jobs', 'nthread', 'objective', 'random_state', 'reg_alpha', 'reg_lambda', 'scale_pos_weight', 'seed', 'silent', 'subsample', 'verbosity'])\n"
          ],
          "name": "stdout"
        }
      ]
    },
    {
      "cell_type": "code",
      "metadata": {
        "id": "7N1gcaeNxppN",
        "outputId": "9af8ecb9-6442-4d63-f2d0-636ef56dbac3",
        "colab": {
          "base_uri": "https://localhost:8080/",
          "height": 34
        }
      },
      "source": [
        "xgb = XGBClassifier() \n",
        "\n",
        "param_grid = {\n",
        " 'n_estimators':range(0,1000,50),\n",
        "}\n",
        "\n",
        "# Checking for the best parameter\n",
        "kfold = StratifiedKFold(n_splits=10, shuffle=True)\n",
        "grid_search = GridSearchCV(xgb, param_grid, scoring=\"recall\", n_jobs=-1, cv=kfold)\n",
        "grid_result = grid_search.fit(X_train_rus, y_train_rus)\n",
        "\n",
        "# Checking for results\n",
        "print(\"Best Recall: {} for {}\".format(grid_result.best_score_, grid_result.best_params_))"
      ],
      "execution_count": 31,
      "outputs": [
        {
          "output_type": "stream",
          "text": [
            "Best Recall: 0.8031458966565349 for {'n_estimators': 50}\n"
          ],
          "name": "stdout"
        }
      ]
    },
    {
      "cell_type": "code",
      "metadata": {
        "id": "omxW54v-v7SD",
        "outputId": "42523288-a987-4315-8a19-e14720d1963e",
        "colab": {
          "base_uri": "https://localhost:8080/",
          "height": 34
        }
      },
      "source": [
        "xgb = XGBClassifier(n_estimators=50) \n",
        "\n",
        "param_grid = {\n",
        " 'max_depth': [1,8,1],\n",
        " 'min_child_weight':[1,5,1],\n",
        "}\n",
        "\n",
        "# Checking for the best parameter\n",
        "kfold = StratifiedKFold(n_splits=10, shuffle=True)\n",
        "grid_search = GridSearchCV(xgb, param_grid, scoring=\"recall\", n_jobs=-1, cv=kfold)\n",
        "grid_result = grid_search.fit(X_train_rus, y_train_rus)\n",
        "\n",
        "# Checking for results\n",
        "print(\"Best Recall: {} for {}\".format(grid_result.best_score_, grid_result.best_params_))"
      ],
      "execution_count": 32,
      "outputs": [
        {
          "output_type": "stream",
          "text": [
            "Best Recall: 0.8195390070921986 for {'max_depth': 1, 'min_child_weight': 1}\n"
          ],
          "name": "stdout"
        }
      ]
    },
    {
      "cell_type": "code",
      "metadata": {
        "id": "qcuB9w6byRq0",
        "outputId": "0ab80f16-a780-4466-a3df-293ec312be2d",
        "colab": {
          "base_uri": "https://localhost:8080/",
          "height": 34
        }
      },
      "source": [
        "xgb = XGBClassifier(n_estimators=50, min_child_weight=1, max_depth=1) \n",
        "\n",
        "param_grid = {\n",
        "  \"learning_rate\": [0.001, 0.01, 0.1, 1],\n",
        "}\n",
        "\n",
        "# Checking for the best parameter\n",
        "kfold = StratifiedKFold(n_splits=10, shuffle=True)\n",
        "grid_search = GridSearchCV(xgb, param_grid, scoring=\"recall\", n_jobs=-1, cv=kfold)\n",
        "grid_result = grid_search.fit(X_train_rus, y_train_rus)\n",
        "\n",
        "# Checking for results\n",
        "print(\"Best Recall: {} for {}\".format(grid_result.best_score_, grid_result.best_params_))"
      ],
      "execution_count": 33,
      "outputs": [
        {
          "output_type": "stream",
          "text": [
            "Best Recall: 0.8851570415400204 for {'learning_rate': 0.001}\n"
          ],
          "name": "stdout"
        }
      ]
    },
    {
      "cell_type": "markdown",
      "metadata": {
        "id": "WERWn19u1ihT"
      },
      "source": [
        "After adjusting parameters, we will train the model with the complete training dataset and check the final performance with this \"new data\" that was preserved."
      ]
    },
    {
      "cell_type": "code",
      "metadata": {
        "id": "k17mkbEP1kVf",
        "outputId": "a2903a42-d9f9-42f9-94ee-fe61e2ffc2d6",
        "colab": {
          "base_uri": "https://localhost:8080/",
          "height": 482
        }
      },
      "source": [
        "# final model\n",
        "model_xgb = XGBClassifier(learning_rate=0.001 , n_estimators=50, max_depth=1, min_child_weight=1)\n",
        "model_xgb.fit(X_train_rus, y_train_rus)\n",
        "\n",
        "# making prediction\n",
        "X_test = scaler.transform(X_test)\n",
        "y_pred_model_xgb = model_xgb.predict(X_test)\n",
        "\n",
        "# Classification Report\n",
        "print(classification_report(y_test, y_pred_model_xgb))\n",
        "\n",
        "# Printing AUC\n",
        "print(\"AUC: {:.4f}\\n\".format(roc_auc_score(y_test, y_pred_model_xgb)))\n",
        "\n",
        "# Plot the confusion matrix\n",
        "plot_confusion_matrix(y_test, y_pred_model_xgb, normalize=True)\n",
        "plt.show()"
      ],
      "execution_count": 34,
      "outputs": [
        {
          "output_type": "stream",
          "text": [
            "              precision    recall  f1-score   support\n",
            "\n",
            "           0       0.93      0.57      0.71      1294\n",
            "           1       0.43      0.89      0.58       467\n",
            "\n",
            "    accuracy                           0.66      1761\n",
            "   macro avg       0.68      0.73      0.64      1761\n",
            "weighted avg       0.80      0.66      0.67      1761\n",
            "\n",
            "AUC: 0.7292\n",
            "\n"
          ],
          "name": "stdout"
        },
        {
          "output_type": "display_data",
          "data": {
            "image/png": "[encoded data removed]",
            "text/plain": [
              "<Figure size 432x288 with 2 Axes>"
            ]
          },
          "metadata": {
            "tags": [],
            "needs_background": "light"
          }
        }
      ]
    },
    {
      "cell_type": "markdown",
      "metadata": {
        "id": "JGnRFvICwAkn"
      },
      "source": [
        "### **Logistic Regression**"
      ]
    },
    {
      "cell_type": "markdown",
      "metadata": {
        "id": "-gY7WeAcRfIM"
      },
      "source": [
        " As can be seen below it presented a slight improvement after tuned, incresing Recall from **0.79** to **0.85**."
      ]
    },
    {
      "cell_type": "code",
      "metadata": {
        "id": "ElCyK41T7sI9",
        "outputId": "01cfaeeb-f832-48aa-e013-1c152a3364f1",
        "colab": {
          "base_uri": "https://localhost:8080/",
          "height": 54
        }
      },
      "source": [
        "# get params\n",
        "print(lr.get_params().keys())"
      ],
      "execution_count": 35,
      "outputs": [
        {
          "output_type": "stream",
          "text": [
            "dict_keys(['C', 'class_weight', 'dual', 'fit_intercept', 'intercept_scaling', 'l1_ratio', 'max_iter', 'multi_class', 'n_jobs', 'penalty', 'random_state', 'solver', 'tol', 'verbose', 'warm_start'])\n"
          ],
          "name": "stdout"
        }
      ]
    },
    {
      "cell_type": "code",
      "metadata": {
        "id": "eKEvGo5WHYRj",
        "outputId": "533a4e61-daef-4816-d8ba-ad1a18b1197d",
        "colab": {
          "base_uri": "https://localhost:8080/",
          "height": 34
        }
      },
      "source": [
        "lr = LogisticRegression()\n",
        "\n",
        "param_grid = {'C': [0.001, 0.01, 0.1, 1, 10, 100, 1000] \n",
        "}\n",
        "\n",
        "# Checking for the best parameter\n",
        "kfold = StratifiedKFold(n_splits=10, shuffle=True)\n",
        "grid_search = GridSearchCV(lr, param_grid, scoring=\"recall\", n_jobs=-1, cv=kfold)\n",
        "grid_result = grid_search.fit(X_train_rus, y_train_rus)\n",
        "\n",
        "# Checking for results\n",
        "print(\"Best Recall: {} for {}\".format(grid_result.best_score_, grid_result.best_params_))"
      ],
      "execution_count": 36,
      "outputs": [
        {
          "output_type": "stream",
          "text": [
            "Best Recall: 0.8052684903748734 for {'C': 0.001}\n"
          ],
          "name": "stdout"
        }
      ]
    },
    {
      "cell_type": "code",
      "metadata": {
        "id": "jWgseO8EI1pr",
        "outputId": "fd470727-f364-4b6c-de50-e7ad6a35dcc3",
        "colab": {
          "base_uri": "https://localhost:8080/",
          "height": 34
        }
      },
      "source": [
        "lr = LogisticRegression(C=0.001)\n",
        "\n",
        "param_grid = {\"solver\": [\"newton-cg\", \"lbfgs\", \"liblinear\",'sag','saga'] \n",
        "}\n",
        "\n",
        "# Checking for the best parameter\n",
        "kfold = StratifiedKFold(n_splits=10, shuffle=True)\n",
        "grid_search = GridSearchCV(lr, param_grid, scoring=\"recall\", n_jobs=-1, cv=kfold)\n",
        "grid_result = grid_search.fit(X_train_rus, y_train_rus)\n",
        "\n",
        "# Checking for results\n",
        "print(\"Best Recall: {} for {}\".format(grid_result.best_score_, grid_result.best_params_))"
      ],
      "execution_count": 37,
      "outputs": [
        {
          "output_type": "stream",
          "text": [
            "Best Recall: 0.8394782168186422 for {'solver': 'liblinear'}\n"
          ],
          "name": "stdout"
        }
      ]
    },
    {
      "cell_type": "code",
      "metadata": {
        "id": "VjjKFTK1JpLf",
        "outputId": "4f180126-9bfe-4ced-b180-34edb22f657f",
        "colab": {
          "base_uri": "https://localhost:8080/",
          "height": 34
        }
      },
      "source": [
        "lr = LogisticRegression(C=0.001, solver='liblinear')\n",
        "\n",
        "param_grid = {\"penalty\": [\"l1\", \"l2\", \"elasticnet\", \"none\"] \n",
        "}\n",
        "\n",
        "# Checking for the best parameter\n",
        "kfold = StratifiedKFold(n_splits=10, shuffle=True)\n",
        "grid_search = GridSearchCV(lr, param_grid, scoring=\"recall\", n_jobs=-1, cv=kfold)\n",
        "grid_result = grid_search.fit(X_train_rus, y_train_rus)\n",
        "\n",
        "# Checking for results\n",
        "print(\"Best Recall: {} for {}\".format(grid_result.best_score_, grid_result.best_params_))"
      ],
      "execution_count": 38,
      "outputs": [
        {
          "output_type": "stream",
          "text": [
            "Best Recall: 0.843095238095238 for {'penalty': 'l2'}\n"
          ],
          "name": "stdout"
        }
      ]
    },
    {
      "cell_type": "code",
      "metadata": {
        "id": "XiDQtZO97bek",
        "outputId": "5e18cd7a-d209-418d-b6c8-210e6f0d44a4",
        "colab": {
          "base_uri": "https://localhost:8080/",
          "height": 34
        }
      },
      "source": [
        "lr = LogisticRegression(C=0.001, solver='liblinear', penalty='l2')\n",
        "\n",
        "param_grid = {\n",
        "    'multi_class': ['ovr', 'multinomial','auto'] \n",
        "}\n",
        "\n",
        "# Checking for the best parameter\n",
        "kfold = StratifiedKFold(n_splits=10, shuffle=True)\n",
        "grid_search = GridSearchCV(lr, param_grid, scoring=\"recall\", n_jobs=-1, cv=kfold)\n",
        "grid_result = grid_search.fit(X_train_rus, y_train_rus)\n",
        "\n",
        "# Checking for results\n",
        "print(\"Best Recall: {} for {}\".format(grid_result.best_score_, grid_result.best_params_))\n"
      ],
      "execution_count": 39,
      "outputs": [
        {
          "output_type": "stream",
          "text": [
            "Best Recall: 0.8416464032421478 for {'multi_class': 'ovr'}\n"
          ],
          "name": "stdout"
        }
      ]
    },
    {
      "cell_type": "code",
      "metadata": {
        "id": "ua1FkY2RLLwi",
        "outputId": "77910723-db09-4d8a-fb51-1a2d55ef708a",
        "colab": {
          "base_uri": "https://localhost:8080/",
          "height": 482
        }
      },
      "source": [
        "# final model\n",
        "model_lr = LogisticRegression(C=0.001, solver='liblinear',penalty='l2', multi_class='ovr')\n",
        "model_lr.fit(X_train_rus, y_train_rus)\n",
        "\n",
        "# making prediction\n",
        "X_test = scaler.transform(X_test) #padronizar somente na fase final da previsão\n",
        "y_pred_model_lr = model_lr.predict(X_test)\n",
        "\n",
        "# Classification Report\n",
        "print(classification_report(y_test, y_pred_model_lr))\n",
        "\n",
        "# Printing AUC\n",
        "print(\"AUC: {:.4f}\\n\".format(roc_auc_score(y_test, y_pred_model_lr)))\n",
        "\n",
        "# Plot confusion matrix\n",
        "model_lr_corr = plot_confusion_matrix(y_test, y_pred_model_lr, normalize=True)\n",
        "plt.show()"
      ],
      "execution_count": 40,
      "outputs": [
        {
          "output_type": "stream",
          "text": [
            "              precision    recall  f1-score   support\n",
            "\n",
            "           0       0.92      0.62      0.74      1294\n",
            "           1       0.45      0.85      0.59       467\n",
            "\n",
            "    accuracy                           0.68      1761\n",
            "   macro avg       0.68      0.74      0.66      1761\n",
            "weighted avg       0.79      0.68      0.70      1761\n",
            "\n",
            "AUC: 0.7353\n",
            "\n"
          ],
          "name": "stdout"
        },
        {
          "output_type": "display_data",
          "data": {
            "image/png": "[encoded data removed]",
            "text/plain": [
              "<Figure size 432x288 with 2 Axes>"
            ]
          },
          "metadata": {
            "tags": [],
            "needs_background": "light"
          }
        }
      ]
    },
    {
      "cell_type": "markdown",
      "metadata": {
        "id": "X5C21LrCLtEX"
      },
      "source": [
        "### **SVM**"
      ]
    },
    {
      "cell_type": "markdown",
      "metadata": {
        "id": "ci0Lbq3iRoHR"
      },
      "source": [
        "As can be seen below it not presented any improvement after tuned, keeping Recall similar **0.78** to **0.77**. We will try to deepen and improve our tunning parameter at an opportune moment in the future. :)"
      ]
    },
    {
      "cell_type": "code",
      "metadata": {
        "id": "Sy8ToUmAaa9G",
        "outputId": "63112551-a7dc-4053-cad2-faa0c239358c",
        "colab": {
          "base_uri": "https://localhost:8080/",
          "height": 54
        }
      },
      "source": [
        "# get params\n",
        "print(svc.get_params().keys())"
      ],
      "execution_count": 41,
      "outputs": [
        {
          "output_type": "stream",
          "text": [
            "dict_keys(['C', 'break_ties', 'cache_size', 'class_weight', 'coef0', 'decision_function_shape', 'degree', 'gamma', 'kernel', 'max_iter', 'probability', 'random_state', 'shrinking', 'tol', 'verbose'])\n"
          ],
          "name": "stdout"
        }
      ]
    },
    {
      "cell_type": "code",
      "metadata": {
        "id": "B6ee3eKIbIQW",
        "outputId": "6e993fb0-21c7-47c6-93ef-79416fdbccc5",
        "colab": {
          "base_uri": "https://localhost:8080/",
          "height": 34
        }
      },
      "source": [
        "svc = SVC()\n",
        "\n",
        "param_grid = {'C' :  [0.001, 0.01, 1, 10, 100] ,\n",
        "}\n",
        "\n",
        "# Checking for the best parameter\n",
        "kfold = StratifiedKFold(n_splits=10, shuffle=True)\n",
        "grid_search = GridSearchCV(svc, param_grid, scoring=\"recall\", cv=kfold)\n",
        "grid_result = grid_search.fit(X_train_rus, y_train_rus)\n",
        "\n",
        "# ver resultados\n",
        "print(\"Best Recall: {} for {}\".format(grid_result.best_score_, grid_result.best_params_))"
      ],
      "execution_count": 46,
      "outputs": [
        {
          "output_type": "stream",
          "text": [
            "Best Recall: 0.7974316109422491 for {'C': 0.01}\n"
          ],
          "name": "stdout"
        }
      ]
    },
    {
      "cell_type": "code",
      "metadata": {
        "id": "tOd23IH6Lm_2",
        "outputId": "92a00951-8f8e-4411-cc3a-b1c09ba57198",
        "colab": {
          "base_uri": "https://localhost:8080/",
          "height": 34
        }
      },
      "source": [
        "svc = SVC(C=0.01)\n",
        "\n",
        "param_grid = {'kernel' :  ['linear', 'poly', 'rbf', 'sigmoid'] \n",
        "}\n",
        "\n",
        "# Checking for the best parameter\n",
        "kfold = StratifiedKFold(n_splits=10, shuffle=True)\n",
        "grid_search = GridSearchCV(svc, param_grid, scoring=\"recall\", cv=kfold)\n",
        "grid_result = grid_search.fit(X_train_rus, y_train_rus)\n",
        "\n",
        "# ver resultados\n",
        "print(\"Best Recall: {} for {}\".format(grid_result.best_score_, grid_result.best_params_))"
      ],
      "execution_count": 47,
      "outputs": [
        {
          "output_type": "stream",
          "text": [
            "Best Recall: 0.9379584599797365 for {'kernel': 'poly'}\n"
          ],
          "name": "stdout"
        }
      ]
    },
    {
      "cell_type": "code",
      "metadata": {
        "id": "fsLeq6wIcoSv",
        "outputId": "164c15c8-b723-4b80-c322-1f8c54f18468",
        "colab": {
          "base_uri": "https://localhost:8080/",
          "height": 482
        }
      },
      "source": [
        "# final model\n",
        "model_svm = SVC(kernel='poly', C= 0.01)\n",
        "model_svm.fit(X_train_rus, y_train_rus)\n",
        "\n",
        "# making prediction\n",
        "X_test = scaler.transform(X_test) \n",
        "y_pred_model_svm = model_svm.predict(X_test)\n",
        "\n",
        "# Classification Report\n",
        "print(classification_report(y_test, y_pred_model_svm))\n",
        "\n",
        "# Printing AUC\n",
        "print(\"AUC: {:.4f}\\n\".format(roc_auc_score(y_test, y_pred_model_svm)))\n",
        "\n",
        "# Plot Confusion matrix\n",
        "plot_confusion_matrix(y_test, y_pred_model_svm, normalize=True)\n",
        "plt.show()"
      ],
      "execution_count": 48,
      "outputs": [
        {
          "output_type": "stream",
          "text": [
            "              precision    recall  f1-score   support\n",
            "\n",
            "           0       0.89      0.65      0.75      1294\n",
            "           1       0.44      0.77      0.56       467\n",
            "\n",
            "    accuracy                           0.68      1761\n",
            "   macro avg       0.66      0.71      0.65      1761\n",
            "weighted avg       0.77      0.68      0.70      1761\n",
            "\n",
            "AUC: 0.7092\n",
            "\n"
          ],
          "name": "stdout"
        },
        {
          "output_type": "display_data",
          "data": {
            "image/png": "[encoded data removed]",
            "text/plain": [
              "<Figure size 432x288 with 2 Axes>"
            ]
          },
          "metadata": {
            "tags": [],
            "needs_background": "light"
          }
        }
      ]
    },
    {
      "cell_type": "markdown",
      "metadata": {
        "id": "mYKvWR_f-MBc"
      },
      "source": [
        "**Comparing XGB, LR and SVM Model**"
      ]
    },
    {
      "cell_type": "code",
      "metadata": {
        "id": "wGUYOYbr9S-a",
        "outputId": "863dfacb-d04d-4747-c9f2-3f83b7cc890d",
        "colab": {
          "base_uri": "https://localhost:8080/",
          "height": 315
        }
      },
      "source": [
        "palette = sns.color_palette(\"coolwarm\", 7)\n",
        "\n",
        "xgb_corr = confusion_matrix(y_test, y_pred_model_xgb, normalize='true')\n",
        "lr_corr = confusion_matrix(y_test, y_pred_model_lr, normalize='true')\n",
        "svm_corr = confusion_matrix(y_test, y_pred_model_svm, normalize='true')\n",
        "\n",
        "f, ax = plt.subplots(nrows=1, ncols=3, figsize = (24,4))\n",
        "f.suptitle('Correlation Matrix',fontsize=20,fontweight='bold',y=1.1)\n",
        "\n",
        "sns.heatmap(xgb_corr, annot=True, linewidths=.1, cmap=palette, ax=ax[0])\n",
        "ax[0].set_title('XGB')\n",
        "ax[0].set_ylabel('True')\n",
        "ax[0].set_xlabel('Predicted')\n",
        "\n",
        "sns.heatmap(lr_corr, annot=True, linewidths=.1, cmap=palette, ax=ax[1])\n",
        "ax[1].set_title('Logistic Regression')\n",
        "ax[1].set_ylabel('True')\n",
        "ax[1].set_xlabel('Predicted')\n",
        "\n",
        "sns.heatmap(svm_corr, annot=True, linewidths=.1, cmap=palette, ax=ax[2])\n",
        "ax[2].set_title('SVM')\n",
        "ax[2].set_ylabel('True')\n",
        "ax[2].set_xlabel('Predicted')\n",
        "\n",
        "\n",
        "plt.show()"
      ],
      "execution_count": 49,
      "outputs": [
        {
          "output_type": "display_data",
          "data": {
            "image/png": "[encoded data removed]",
            "text/plain": [
              "<Figure size 1728x288 with 6 Axes>"
            ]
          },
          "metadata": {
            "tags": [],
            "needs_background": "light"
          }
        }
      ]
    },
    {
      "cell_type": "markdown",
      "metadata": {
        "id": "2Bn7Eo1Tr-Yz"
      },
      "source": [
        "# **Conclusion**\n",
        "\n",
        "No algorithm will detect churn with 100% accuracy. There will always be a trade-off between the precision metric and the recall metric. That's why it's important to test and have a deep understanding of the business, the data, and the strengths and weaknesses of each classifier to get the best out of each one. \n",
        "\n",
        "I will choose the **XGB model** because the Recall is better than other tested models, with **0.89** and despite the precision is **0.43**\n",
        "a little bigger than more than the Logistic Regression. It is acceptable to engage and offers something with those who are mistakenly tagged as ‘not churned,’ as it does not cause any negative impact on the brand."
      ]
    },
    {
      "cell_type": "markdown",
      "metadata": {
        "id": "ZqtSzFKzVuSp"
      },
      "source": [
        "**Helpful informations:**\n",
        "\n",
        "* [Seaborn Palettes](https://seaborn.pydata.org/tutorial/color_palettes.html)\n",
        "* [Churn Prediction Article - Towards DS](https://towardsdatascience.com/churn-prediction-3a4a36c2129a)\n",
        "* [The begginer image Source](https://www.sogeti.com/why-us/proven-expertise/swedish-telecommunication-company/)\n",
        "* [BoxPlot Image Source](https://codingwithmax.com/box-plot-python/)\n",
        "* [XGBoost Datacamp Tutorial](https://www.datacamp.com/community/tutorials/xgboost-in-python)\n",
        "* [Tuning XGBoost Article - Analytics Vidhya](https://www.analyticsvidhya.com/blog/2016/03/complete-guide-parameter-tuning-xgboost-with-codes-python/)\n",
        "* [Tuning XGBoost Article - Towards DS](https://towardsdatascience.com/doing-xgboost-hyper-parameter-tuning-the-smart-way-part-1-of-2-f6d255a45dde)\n",
        "\n"
      ]
    }
  ]
}